{
 "cells": [
  {
   "cell_type": "markdown",
   "metadata": {},
   "source": [
    "# Shooting Project \n",
    "#### Name: Preeyanuch Suphasueb\n",
    "#### student ID: 61070306\n",
    "#### Adviser: Teerapong Leelanupab"
   ]
  },
  {
   "cell_type": "code",
   "execution_count": 1,
   "metadata": {
    "scrolled": true
   },
   "outputs": [
    {
     "name": "stdout",
     "output_type": "stream",
     "text": [
      "Requirement already satisfied: folium in c:\\users\\piyapat wongsawat\\anaconda3\\lib\\site-packages (0.11.0)\n",
      "Requirement already satisfied: branca>=0.3.0 in c:\\users\\piyapat wongsawat\\anaconda3\\lib\\site-packages (from folium) (0.4.1)\n",
      "Requirement already satisfied: numpy in c:\\users\\piyapat wongsawat\\anaconda3\\lib\\site-packages (from folium) (1.18.5)\n",
      "Requirement already satisfied: requests in c:\\users\\piyapat wongsawat\\anaconda3\\lib\\site-packages (from folium) (2.24.0)\n",
      "Requirement already satisfied: jinja2>=2.9 in c:\\users\\piyapat wongsawat\\anaconda3\\lib\\site-packages (from folium) (2.11.2)\n",
      "Requirement already satisfied: idna<3,>=2.5 in c:\\users\\piyapat wongsawat\\anaconda3\\lib\\site-packages (from requests->folium) (2.10)\n",
      "Requirement already satisfied: chardet<4,>=3.0.2 in c:\\users\\piyapat wongsawat\\anaconda3\\lib\\site-packages (from requests->folium) (3.0.4)\n",
      "Requirement already satisfied: certifi>=2017.4.17 in c:\\users\\piyapat wongsawat\\anaconda3\\lib\\site-packages (from requests->folium) (2020.6.20)\n",
      "Requirement already satisfied: urllib3!=1.25.0,!=1.25.1,<1.26,>=1.21.1 in c:\\users\\piyapat wongsawat\\anaconda3\\lib\\site-packages (from requests->folium) (1.25.9)\n",
      "Requirement already satisfied: MarkupSafe>=0.23 in c:\\users\\piyapat wongsawat\\anaconda3\\lib\\site-packages (from jinja2>=2.9->folium) (1.1.1)\n"
     ]
    }
   ],
   "source": [
    "import json\n",
    "import urllib\n",
    "import urllib.request\n",
    "from pandas.io.json import json_normalize\n",
    "import pandas as pd\n",
    "import matplotlib.pyplot as plt\n",
    "import seaborn as sns\n",
    "!pip install folium\n",
    "import folium"
   ]
  },
  {
   "cell_type": "markdown",
   "metadata": {},
   "source": [
    "## Choose Open Web API ##"
   ]
  },
  {
   "cell_type": "markdown",
   "metadata": {},
   "source": [
    "ใน assignment นี้ได้เลือกนำข้อมูลมาจาก https://opendata.cityofnewyork.us/ ที่เป็นแหล่ง Web API \n",
    "ซึ่งให้ข้อมูลประวัติเหตุกาณ์การยิงกันที่เกิดขึ้นภายใน Newyork City ตั้งแต่ปีค.ศ. 2006 จนถึงปีค.ศ. 2018\n",
    "(NYPD Shooting Incident Data (Historic)-https://data.cityofnewyork.us/Public-Safety/NYPD-Shooting-Incident-Data-Historic-/833y-fsy8)\n",
    "ข้อมูลที่ดึงมานี้มีรายละเอียดของเหตุการณ์กราดยิงทุกครั้งที่เกิดขึ้นในนิวยอร์คย้อนกลับไปในปีค.ศ. 2006 จนถึงสิ้นปีค.ศ. 2018  ข้อมูลนี้จะถูกดึงออกมาทุกไตรมาส และได้รับการตรวจสอบโดยสำนักงานวิเคราะห์ และวางแผนการจัดการก่อนที่จะโพสต์บนเว็บไซต์ NYPD(New York City Police Department) บันทึกแต่ละรายการแสดงถึงเหตุการณ์กราดยิงในนิวยอร์ค และรวมถึงข้อมูลเกี่ยวกับเหตุการณ์สถานที่และเวลาที่เกิดขึ้น นอกจากนี้ยังรวมข้อมูลที่เกี่ยวข้องกับข้อมูลประชากรผู้ต้องสงสัยและเหยื่อ ประชาชน"
   ]
  },
  {
   "cell_type": "markdown",
   "metadata": {},
   "source": [
    "## Collect Data From My Web API ##"
   ]
  },
  {
   "cell_type": "markdown",
   "metadata": {},
   "source": [
    "ในส่วนของข้อมูลได้ทำการนำ URL ที่ให้ข้อมูลมาจาก https://data.cityofnewyork.us/Public-Safety/NYPD-Shooting-Incident-Data-Historic-/833y-fsy8 และใช้วิธีการ urllib request เพื่อดาวน์โหลดข้อมูลจาก HTTP URL"
   ]
  },
  {
   "cell_type": "code",
   "execution_count": 2,
   "metadata": {},
   "outputs": [],
   "source": [
    "url = \"https://data.cityofnewyork.us/resource/833y-fsy8.json\" # url variable เป็นตัวแปรที่เก็ยข้อมูลของ url ที่ต้องการจะใช้ในการดึงข้อมูล\n",
    "response = urllib.request.urlopen(url) # shooting_json variable เป็นตัวแปรที่เก็บคำสั่งในการเรียกอ่านข้อมูลจาก response variable\n",
    "shooting_json = response.read().decode(\"utf-8\") # response variable เป็นตัวแปรที่เก็ยคำสั่้ง urllib request เพื่อใช้ดาวน์โหลดข้อมูลจาก HTTP URL\n",
    "#print(shooting_json) #แสดงข้อมูลที่ดาวน์โหลดมาได้จาก shooting_json variable"
   ]
  },
  {
   "cell_type": "markdown",
   "metadata": {},
   "source": [
    "หลังจากดึงข้อมูลมาจาก Web API เรียบร้อยแล้วจะทำการ save file เก็บไว้ใน folder ที่ชื่อว่า \\data\\ เพื่อทำการ Data Staging"
   ]
  },
  {
   "cell_type": "code",
   "execution_count": 3,
   "metadata": {},
   "outputs": [],
   "source": [
    " # เป็นการ save file shooting_json ไปใน folder data ด้วยคำสั่ง open('data\\shooting_json', 'w') เพื่อเขียนไฟล์ลงใน folder data\n",
    "with open('data\\shooting.json', 'w') as outfile:\n",
    "    json.dump(shooting_json, outfile)"
   ]
  },
  {
   "cell_type": "markdown",
   "metadata": {},
   "source": [
    "## Pre Processing ##"
   ]
  },
  {
   "cell_type": "markdown",
   "metadata": {},
   "source": [
    "เมื่อทำ Data Staging ไว้ใน folder data แล้วจะทำการ load ไฟล์ข้อมูลนั้นมาใช้ในการวิเคราะห์ด้วยคำสั่งด้านล่างนี้"
   ]
  },
  {
   "cell_type": "code",
   "execution_count": 4,
   "metadata": {
    "scrolled": true
   },
   "outputs": [],
   "source": [
    "shooting = json.loads(shooting_json) # คำสั่งใช้ในการ load ข้อมูลมาใช้จาก folder data\n",
    "#shooting"
   ]
  },
  {
   "cell_type": "markdown",
   "metadata": {},
   "source": [
    "หลังจากที่ทำการ load ข้อมูลมาใช้เรียบร้อยแล้วจะทำการ normalize ข้อมูลเพื่อให้อยู่ในรูปของ Dataframe เพื่อนำไปใช้ในการวิเคราะห์ได้ง่ายมากขึ้น"
   ]
  },
  {
   "cell_type": "code",
   "execution_count": 5,
   "metadata": {
    "scrolled": false
   },
   "outputs": [
    {
     "name": "stderr",
     "output_type": "stream",
     "text": [
      "<ipython-input-5-a8715584698c>:1: FutureWarning: pandas.io.json.json_normalize is deprecated, use pandas.json_normalize instead\n",
      "  df_shooting = json_normalize(shooting) #ใช้คำสั่ง json_normalize จาก semi-structured JSON data ไปเป็น flat table หรือ dataframe\n"
     ]
    },
    {
     "data": {
      "text/html": [
       "<div>\n",
       "<style scoped>\n",
       "    .dataframe tbody tr th:only-of-type {\n",
       "        vertical-align: middle;\n",
       "    }\n",
       "\n",
       "    .dataframe tbody tr th {\n",
       "        vertical-align: top;\n",
       "    }\n",
       "\n",
       "    .dataframe thead th {\n",
       "        text-align: right;\n",
       "    }\n",
       "</style>\n",
       "<table border=\"1\" class=\"dataframe\">\n",
       "  <thead>\n",
       "    <tr style=\"text-align: right;\">\n",
       "      <th></th>\n",
       "      <th>incident_key</th>\n",
       "      <th>occur_date</th>\n",
       "      <th>occur_time</th>\n",
       "      <th>boro</th>\n",
       "      <th>precinct</th>\n",
       "      <th>jurisdiction_code</th>\n",
       "      <th>statistical_murder_flag</th>\n",
       "      <th>vic_age_group</th>\n",
       "      <th>vic_sex</th>\n",
       "      <th>vic_race</th>\n",
       "      <th>...</th>\n",
       "      <th>:@computed_region_f5dn_yrer</th>\n",
       "      <th>:@computed_region_yeji_bk3q</th>\n",
       "      <th>:@computed_region_92fq_4b7q</th>\n",
       "      <th>:@computed_region_sbqj_enih</th>\n",
       "      <th>geocoded_column.type</th>\n",
       "      <th>geocoded_column.coordinates</th>\n",
       "      <th>perp_age_group</th>\n",
       "      <th>perp_sex</th>\n",
       "      <th>perp_race</th>\n",
       "      <th>location_desc</th>\n",
       "    </tr>\n",
       "  </thead>\n",
       "  <tbody>\n",
       "    <tr>\n",
       "      <th>0</th>\n",
       "      <td>74146165</td>\n",
       "      <td>2010-08-14T00:00:00.000</td>\n",
       "      <td>3:11:00</td>\n",
       "      <td>QUEENS</td>\n",
       "      <td>113</td>\n",
       "      <td>0</td>\n",
       "      <td>False</td>\n",
       "      <td>25-44</td>\n",
       "      <td>M</td>\n",
       "      <td>BLACK</td>\n",
       "      <td>...</td>\n",
       "      <td>41</td>\n",
       "      <td>3</td>\n",
       "      <td>47</td>\n",
       "      <td>71</td>\n",
       "      <td>Point</td>\n",
       "      <td>[-73.77534099699994, 40.66891477200004]</td>\n",
       "      <td>NaN</td>\n",
       "      <td>NaN</td>\n",
       "      <td>NaN</td>\n",
       "      <td>NaN</td>\n",
       "    </tr>\n",
       "    <tr>\n",
       "      <th>1</th>\n",
       "      <td>66928846</td>\n",
       "      <td>2009-10-17T00:00:00.000</td>\n",
       "      <td>18:03:00</td>\n",
       "      <td>BROOKLYN</td>\n",
       "      <td>67</td>\n",
       "      <td>0</td>\n",
       "      <td>True</td>\n",
       "      <td>45-64</td>\n",
       "      <td>M</td>\n",
       "      <td>BLACK</td>\n",
       "      <td>...</td>\n",
       "      <td>61</td>\n",
       "      <td>2</td>\n",
       "      <td>26</td>\n",
       "      <td>40</td>\n",
       "      <td>Point</td>\n",
       "      <td>[-73.93130224699998, 40.65087729100002]</td>\n",
       "      <td>NaN</td>\n",
       "      <td>NaN</td>\n",
       "      <td>NaN</td>\n",
       "      <td>NaN</td>\n",
       "    </tr>\n",
       "    <tr>\n",
       "      <th>2</th>\n",
       "      <td>29114164</td>\n",
       "      <td>2007-05-18T00:00:00.000</td>\n",
       "      <td>23:00:00</td>\n",
       "      <td>BROOKLYN</td>\n",
       "      <td>75</td>\n",
       "      <td>0</td>\n",
       "      <td>False</td>\n",
       "      <td>25-44</td>\n",
       "      <td>M</td>\n",
       "      <td>BLACK</td>\n",
       "      <td>...</td>\n",
       "      <td>45</td>\n",
       "      <td>2</td>\n",
       "      <td>25</td>\n",
       "      <td>47</td>\n",
       "      <td>Point</td>\n",
       "      <td>[-73.884529479, 40.65033205800006]</td>\n",
       "      <td>NaN</td>\n",
       "      <td>NaN</td>\n",
       "      <td>NaN</td>\n",
       "      <td>NaN</td>\n",
       "    </tr>\n",
       "    <tr>\n",
       "      <th>3</th>\n",
       "      <td>85180336</td>\n",
       "      <td>2012-06-09T00:00:00.000</td>\n",
       "      <td>17:15:00</td>\n",
       "      <td>BROOKLYN</td>\n",
       "      <td>81</td>\n",
       "      <td>0</td>\n",
       "      <td>False</td>\n",
       "      <td>25-44</td>\n",
       "      <td>M</td>\n",
       "      <td>BLACK</td>\n",
       "      <td>...</td>\n",
       "      <td>69</td>\n",
       "      <td>2</td>\n",
       "      <td>17</td>\n",
       "      <td>52</td>\n",
       "      <td>Point</td>\n",
       "      <td>[-73.92303235699995, 40.68452304300007]</td>\n",
       "      <td>NaN</td>\n",
       "      <td>NaN</td>\n",
       "      <td>NaN</td>\n",
       "      <td>NaN</td>\n",
       "    </tr>\n",
       "    <tr>\n",
       "      <th>4</th>\n",
       "      <td>73405770</td>\n",
       "      <td>2010-06-27T00:00:00.000</td>\n",
       "      <td>4:14:00</td>\n",
       "      <td>BRONX</td>\n",
       "      <td>47</td>\n",
       "      <td>0</td>\n",
       "      <td>False</td>\n",
       "      <td>25-44</td>\n",
       "      <td>M</td>\n",
       "      <td>BLACK</td>\n",
       "      <td>...</td>\n",
       "      <td>29</td>\n",
       "      <td>5</td>\n",
       "      <td>2</td>\n",
       "      <td>30</td>\n",
       "      <td>Point</td>\n",
       "      <td>[-73.85786021699995, 40.88947350500007]</td>\n",
       "      <td>NaN</td>\n",
       "      <td>NaN</td>\n",
       "      <td>NaN</td>\n",
       "      <td>NaN</td>\n",
       "    </tr>\n",
       "    <tr>\n",
       "      <th>5</th>\n",
       "      <td>33397043</td>\n",
       "      <td>2007-07-26T00:00:00.000</td>\n",
       "      <td>23:05:00</td>\n",
       "      <td>QUEENS</td>\n",
       "      <td>110</td>\n",
       "      <td>0</td>\n",
       "      <td>False</td>\n",
       "      <td>18-24</td>\n",
       "      <td>M</td>\n",
       "      <td>BLACK</td>\n",
       "      <td>...</td>\n",
       "      <td>66</td>\n",
       "      <td>3</td>\n",
       "      <td>5</td>\n",
       "      <td>68</td>\n",
       "      <td>Point</td>\n",
       "      <td>[-73.88560822899994, 40.74420426600005]</td>\n",
       "      <td>NaN</td>\n",
       "      <td>NaN</td>\n",
       "      <td>NaN</td>\n",
       "      <td>NaN</td>\n",
       "    </tr>\n",
       "    <tr>\n",
       "      <th>6</th>\n",
       "      <td>185483181</td>\n",
       "      <td>2018-07-21T00:00:00.000</td>\n",
       "      <td>4:15:00</td>\n",
       "      <td>QUEENS</td>\n",
       "      <td>114</td>\n",
       "      <td>0</td>\n",
       "      <td>False</td>\n",
       "      <td>25-44</td>\n",
       "      <td>M</td>\n",
       "      <td>BLACK</td>\n",
       "      <td>...</td>\n",
       "      <td>39</td>\n",
       "      <td>3</td>\n",
       "      <td>33</td>\n",
       "      <td>72</td>\n",
       "      <td>Point</td>\n",
       "      <td>[-73.92884875, 40.75498753]</td>\n",
       "      <td>25-44</td>\n",
       "      <td>M</td>\n",
       "      <td>BLACK</td>\n",
       "      <td>NaN</td>\n",
       "    </tr>\n",
       "    <tr>\n",
       "      <th>7</th>\n",
       "      <td>137804320</td>\n",
       "      <td>2014-07-20T00:00:00.000</td>\n",
       "      <td>1:40:00</td>\n",
       "      <td>QUEENS</td>\n",
       "      <td>113</td>\n",
       "      <td>0</td>\n",
       "      <td>False</td>\n",
       "      <td>18-24</td>\n",
       "      <td>M</td>\n",
       "      <td>BLACK</td>\n",
       "      <td>...</td>\n",
       "      <td>41</td>\n",
       "      <td>3</td>\n",
       "      <td>47</td>\n",
       "      <td>71</td>\n",
       "      <td>Point</td>\n",
       "      <td>[-73.76319392399995, 40.668618676000044]</td>\n",
       "      <td>NaN</td>\n",
       "      <td>NaN</td>\n",
       "      <td>NaN</td>\n",
       "      <td>NaN</td>\n",
       "    </tr>\n",
       "    <tr>\n",
       "      <th>8</th>\n",
       "      <td>82323802</td>\n",
       "      <td>2011-12-25T00:00:00.000</td>\n",
       "      <td>3:50:00</td>\n",
       "      <td>QUEENS</td>\n",
       "      <td>113</td>\n",
       "      <td>0</td>\n",
       "      <td>False</td>\n",
       "      <td>18-24</td>\n",
       "      <td>M</td>\n",
       "      <td>BLACK</td>\n",
       "      <td>...</td>\n",
       "      <td>41</td>\n",
       "      <td>3</td>\n",
       "      <td>46</td>\n",
       "      <td>71</td>\n",
       "      <td>Point</td>\n",
       "      <td>[-73.79888153399997, 40.67445888000003]</td>\n",
       "      <td>NaN</td>\n",
       "      <td>NaN</td>\n",
       "      <td>NaN</td>\n",
       "      <td>NaN</td>\n",
       "    </tr>\n",
       "    <tr>\n",
       "      <th>9</th>\n",
       "      <td>74568517</td>\n",
       "      <td>2010-09-11T00:00:00.000</td>\n",
       "      <td>21:40:00</td>\n",
       "      <td>BRONX</td>\n",
       "      <td>43</td>\n",
       "      <td>0</td>\n",
       "      <td>False</td>\n",
       "      <td>18-24</td>\n",
       "      <td>M</td>\n",
       "      <td>BLACK</td>\n",
       "      <td>...</td>\n",
       "      <td>58</td>\n",
       "      <td>5</td>\n",
       "      <td>31</td>\n",
       "      <td>26</td>\n",
       "      <td>Point</td>\n",
       "      <td>[-73.87519150199995, 40.82788868500006]</td>\n",
       "      <td>NaN</td>\n",
       "      <td>NaN</td>\n",
       "      <td>NaN</td>\n",
       "      <td>NaN</td>\n",
       "    </tr>\n",
       "  </tbody>\n",
       "</table>\n",
       "<p>10 rows × 25 columns</p>\n",
       "</div>"
      ],
      "text/plain": [
       "  incident_key               occur_date occur_time      boro precinct  \\\n",
       "0     74146165  2010-08-14T00:00:00.000    3:11:00    QUEENS      113   \n",
       "1     66928846  2009-10-17T00:00:00.000   18:03:00  BROOKLYN       67   \n",
       "2     29114164  2007-05-18T00:00:00.000   23:00:00  BROOKLYN       75   \n",
       "3     85180336  2012-06-09T00:00:00.000   17:15:00  BROOKLYN       81   \n",
       "4     73405770  2010-06-27T00:00:00.000    4:14:00     BRONX       47   \n",
       "5     33397043  2007-07-26T00:00:00.000   23:05:00    QUEENS      110   \n",
       "6    185483181  2018-07-21T00:00:00.000    4:15:00    QUEENS      114   \n",
       "7    137804320  2014-07-20T00:00:00.000    1:40:00    QUEENS      113   \n",
       "8     82323802  2011-12-25T00:00:00.000    3:50:00    QUEENS      113   \n",
       "9     74568517  2010-09-11T00:00:00.000   21:40:00     BRONX       43   \n",
       "\n",
       "  jurisdiction_code  statistical_murder_flag vic_age_group vic_sex vic_race  \\\n",
       "0                 0                    False         25-44       M    BLACK   \n",
       "1                 0                     True         45-64       M    BLACK   \n",
       "2                 0                    False         25-44       M    BLACK   \n",
       "3                 0                    False         25-44       M    BLACK   \n",
       "4                 0                    False         25-44       M    BLACK   \n",
       "5                 0                    False         18-24       M    BLACK   \n",
       "6                 0                    False         25-44       M    BLACK   \n",
       "7                 0                    False         18-24       M    BLACK   \n",
       "8                 0                    False         18-24       M    BLACK   \n",
       "9                 0                    False         18-24       M    BLACK   \n",
       "\n",
       "   ... :@computed_region_f5dn_yrer :@computed_region_yeji_bk3q  \\\n",
       "0  ...                          41                           3   \n",
       "1  ...                          61                           2   \n",
       "2  ...                          45                           2   \n",
       "3  ...                          69                           2   \n",
       "4  ...                          29                           5   \n",
       "5  ...                          66                           3   \n",
       "6  ...                          39                           3   \n",
       "7  ...                          41                           3   \n",
       "8  ...                          41                           3   \n",
       "9  ...                          58                           5   \n",
       "\n",
       "  :@computed_region_92fq_4b7q :@computed_region_sbqj_enih  \\\n",
       "0                          47                          71   \n",
       "1                          26                          40   \n",
       "2                          25                          47   \n",
       "3                          17                          52   \n",
       "4                           2                          30   \n",
       "5                           5                          68   \n",
       "6                          33                          72   \n",
       "7                          47                          71   \n",
       "8                          46                          71   \n",
       "9                          31                          26   \n",
       "\n",
       "  geocoded_column.type               geocoded_column.coordinates  \\\n",
       "0                Point   [-73.77534099699994, 40.66891477200004]   \n",
       "1                Point   [-73.93130224699998, 40.65087729100002]   \n",
       "2                Point        [-73.884529479, 40.65033205800006]   \n",
       "3                Point   [-73.92303235699995, 40.68452304300007]   \n",
       "4                Point   [-73.85786021699995, 40.88947350500007]   \n",
       "5                Point   [-73.88560822899994, 40.74420426600005]   \n",
       "6                Point               [-73.92884875, 40.75498753]   \n",
       "7                Point  [-73.76319392399995, 40.668618676000044]   \n",
       "8                Point   [-73.79888153399997, 40.67445888000003]   \n",
       "9                Point   [-73.87519150199995, 40.82788868500006]   \n",
       "\n",
       "  perp_age_group perp_sex perp_race location_desc  \n",
       "0            NaN      NaN       NaN           NaN  \n",
       "1            NaN      NaN       NaN           NaN  \n",
       "2            NaN      NaN       NaN           NaN  \n",
       "3            NaN      NaN       NaN           NaN  \n",
       "4            NaN      NaN       NaN           NaN  \n",
       "5            NaN      NaN       NaN           NaN  \n",
       "6          25-44        M     BLACK           NaN  \n",
       "7            NaN      NaN       NaN           NaN  \n",
       "8            NaN      NaN       NaN           NaN  \n",
       "9            NaN      NaN       NaN           NaN  \n",
       "\n",
       "[10 rows x 25 columns]"
      ]
     },
     "execution_count": 5,
     "metadata": {},
     "output_type": "execute_result"
    }
   ],
   "source": [
    "df_shooting = json_normalize(shooting) #ใช้คำสั่ง json_normalize จาก semi-structured JSON data ไปเป็น flat table หรือ dataframe \n",
    "#เพื่อให้อ่านข้อมูลได้สะดวกมากขึ้น และเก็บ dataframe นี้ไว้ในชื่อ df_shooting\n",
    "df_shooting.head(10) #ใช้คำสั่ง df_shooting.head(10) ในการแสดงข้อมูล 10 ตัวแรก"
   ]
  },
  {
   "cell_type": "markdown",
   "metadata": {},
   "source": [
    "ผลลัพธ์จาก output ด้านบนแสดงให้เห็นว่าข้อมูลยังต้องถูก clean ก่อนนำไปใช้วิเคราะห์ทั้งชื่อคอลัมน์, ค่า NAN และค่า value ในแต่ละคอลัมน์ที่ต้องวิเคราะห์"
   ]
  },
  {
   "cell_type": "code",
   "execution_count": 6,
   "metadata": {
    "scrolled": false
   },
   "outputs": [
    {
     "name": "stdout",
     "output_type": "stream",
     "text": [
      "<class 'pandas.core.frame.DataFrame'>\n",
      "RangeIndex: 1000 entries, 0 to 999\n",
      "Data columns (total 25 columns):\n",
      " #   Column                       Non-Null Count  Dtype \n",
      "---  ------                       --------------  ----- \n",
      " 0   incident_key                 1000 non-null   object\n",
      " 1   occur_date                   1000 non-null   object\n",
      " 2   occur_time                   1000 non-null   object\n",
      " 3   boro                         1000 non-null   object\n",
      " 4   precinct                     1000 non-null   object\n",
      " 5   jurisdiction_code            1000 non-null   object\n",
      " 6   statistical_murder_flag      1000 non-null   bool  \n",
      " 7   vic_age_group                1000 non-null   object\n",
      " 8   vic_sex                      1000 non-null   object\n",
      " 9   vic_race                     1000 non-null   object\n",
      " 10  x_coord_cd                   1000 non-null   object\n",
      " 11  y_coord_cd                   1000 non-null   object\n",
      " 12  latitude                     1000 non-null   object\n",
      " 13  longitude                    1000 non-null   object\n",
      " 14  :@computed_region_efsh_h5xi  999 non-null    object\n",
      " 15  :@computed_region_f5dn_yrer  1000 non-null   object\n",
      " 16  :@computed_region_yeji_bk3q  1000 non-null   object\n",
      " 17  :@computed_region_92fq_4b7q  1000 non-null   object\n",
      " 18  :@computed_region_sbqj_enih  1000 non-null   object\n",
      " 19  geocoded_column.type         1000 non-null   object\n",
      " 20  geocoded_column.coordinates  1000 non-null   object\n",
      " 21  perp_age_group               650 non-null    object\n",
      " 22  perp_sex                     652 non-null    object\n",
      " 23  perp_race                    652 non-null    object\n",
      " 24  location_desc                421 non-null    object\n",
      "dtypes: bool(1), object(24)\n",
      "memory usage: 188.6+ KB\n"
     ]
    }
   ],
   "source": [
    "df_shooting.info() #คำสั่งในการดูข้อมูลพื้นฐานของ dataframe \n",
    "#เพื่อดูภาพรวมของข้อมูล จำนวนข้อมูลทั้งหมด คอลัมภ์ทั้งหมด ประเภทของข้อมูลทั้งหมด"
   ]
  },
  {
   "cell_type": "markdown",
   "metadata": {},
   "source": [
    "output จากด้านบนจะเห็นได้ว่ามีข้อมูลจำนวนทั้งหมด 1000 rows และมีคอลัมน์ทั้งหมด 25 columns ประเภทข้อมูลเป็น object เกือบทั้งหมด และมี bool อยู่อีก 1 คอลัมน์ เป็นการดูภาพรวมเพื่อวิเคราะห์ในการเลือก clean data"
   ]
  },
  {
   "cell_type": "markdown",
   "metadata": {},
   "source": [
    "## clean data"
   ]
  },
  {
   "cell_type": "markdown",
   "metadata": {},
   "source": [
    "เริ่มทำความสะอาดข้อมูลโดยเริ่มจากเปลี่ยนชื่อคอลัมภ์บางคอลัมภ์ที่ไม่มีความหมาย และเข้าใจยาก ให้สามารถเข้าใจได้ง่ายมากขึ้น "
   ]
  },
  {
   "cell_type": "code",
   "execution_count": 7,
   "metadata": {},
   "outputs": [],
   "source": [
    "#คำสั่ง df_shooting.rename(columns = ['Old Column Name':'New Column Name']) เป็นการเปลี่ยนชื่อของคอลัมน์ใน dataframe\n",
    "#inplace = True เป็นการแทนที่แบบไม่ต้องมีตัวแปรมารับ / nothing is returned\n",
    "df_shooting.rename(columns = {'boro':'borough',\n",
    "                              'precinct':'police_precinct',\n",
    "                              'x_coord_cd':'x_plane',\n",
    "                              'y_coord_cd':'y_plane',\n",
    "                              ':@computed_region_efsh_h5xi':'zip_codes',\n",
    "                              ':@computed_region_f5dn_yrer':'community_districts',\n",
    "                              ':@computed_region_yeji_bk3q':'borough_boundaries',\n",
    "                              ':@computed_region_92fq_4b7q':'city_council_districts',\n",
    "                              ':@computed_region_sbqj_enih':'precinct',\n",
    "                              'geocoded_column.type':'geocoded_type',\n",
    "                              'geocoded_column.coordinates':'geocoded_coordinates'}, inplace = True)"
   ]
  },
  {
   "cell_type": "code",
   "execution_count": 8,
   "metadata": {
    "scrolled": false
   },
   "outputs": [
    {
     "data": {
      "text/plain": [
       "['incident_key',\n",
       " 'occur_date',\n",
       " 'occur_time',\n",
       " 'borough',\n",
       " 'police_precinct',\n",
       " 'jurisdiction_code',\n",
       " 'statistical_murder_flag',\n",
       " 'vic_age_group',\n",
       " 'vic_sex',\n",
       " 'vic_race',\n",
       " 'x_plane',\n",
       " 'y_plane',\n",
       " 'latitude',\n",
       " 'longitude',\n",
       " 'zip_codes',\n",
       " 'community_districts',\n",
       " 'borough_boundaries',\n",
       " 'city_council_districts',\n",
       " 'precinct',\n",
       " 'geocoded_type',\n",
       " 'geocoded_coordinates',\n",
       " 'perp_age_group',\n",
       " 'perp_sex',\n",
       " 'perp_race',\n",
       " 'location_desc']"
      ]
     },
     "execution_count": 8,
     "metadata": {},
     "output_type": "execute_result"
    }
   ],
   "source": [
    "df_shooting.columns.values.tolist() #ใช้คำสั่งนี้เพื่อแสดง list ของคอลัมภ์ทั้งหมดหลังจากถูกเปลี่ยนชื่อแล้วเรียบร้อย"
   ]
  },
  {
   "cell_type": "markdown",
   "metadata": {},
   "source": [
    "จาก output จะเห็นได้ว่าชื่อคอลัมภ์มีความหมายที่เข้าใจได้มากขึ้นไม่เป็นภาษาที่อ่านไม่ออก\n",
    "มาทำความเข้าใจกับแต่ละคอลัมน์กันเถอะ ~"
   ]
  },
  {
   "cell_type": "markdown",
   "metadata": {},
   "source": [
    "ความหมายของแต่ละคอลัมภ์\n",
    "\n",
    "incident_key คือ เลข ID แบบสุ่มของแต่ละการเกิดเหตุโดย incident key แต่ละอันแสดงถึงเหยื่อเป็นหลัก                \n",
    "occur_date คือ วันที่เกิดเหตุการณ์กราดยิง                      \n",
    "occur_time คือ เวลาที่เกิดเหตุการณ์กราดยิง                      \n",
    "borough คือ เขตที่เกิดเหตุการณ์กราดยิง                            \n",
    "police_precinct คือ พื้นที่ที่เกิดเหตุกราดยิง(เป็นรหัสของพื้นที่ปกครองของตำรวจใน NYPD https://www1.nyc.gov/site/nypd/bureaus/patrol/precincts-landing.page)                       \n",
    "jurisdiction_code คือ เขตอำนาจศาลที่เกิดเหตุกราดยิง (รหัสเขตอำนาจศาล 0 = ตระเวน, 1 = การขนส่ง, 2 = ที่อยู่อาศัย และ 3 แสดงถึงเขตอำนาจศาลอื่นๆที่ไม่ใช่ NYPD)                \n",
    "statistical_murder_flag คือ เป็นการฆาตกรรม(การยิงที่ทำให้เหยื่อเสียชีวิต False = เหยื่อไม่เสียชีวิต, True = เหยื่อเสียชีวิต)           \n",
    "vic_age_group คือ ช่วงอายุของเหยื่อ                 \n",
    "vic_sex คือ เพศของเหยื่อ                         \n",
    "vic_race คือ เผ่าพันธุ์ของเหยื่อ                       \n",
    "x_plane คือ พิกัดของเฮลิคอปเตอร์ในแกน x                     \n",
    "y_plane คือ พิกัดของเฮลิคอปเตอร์ในแกน y                   \n",
    "latitude คือ พิกัดละติจูดของพื้นที่บนโลกเมื่อเกิดเหตุ                      \n",
    "longitude  คือ พิกัดลองจิจูดของพื้นที่บนโลกเมื่อเกิดเหตุ                        \n",
    "zip_codes คือ รหัสไปรษณีย์ของพื้นที่เกิดเเหตุ  \n",
    "community_districts คือ รหัสของย่านชุมชนที่เกิดเหตุ    \n",
    "borough_boundaries คือ ขอบเขตของเขตที่เกิดเหตุ   \n",
    "city_council_districts คือ เขตเทศบาลเมืองที่เกิดเหตุ    \n",
    "precinct คือ รหัสพื้นที่ที่เกิดเหตุ    \n",
    "geocoded_type คือ ประเภทของพิกัดทางภูมิศาสตร์ ณ ที่เกิดเหตุ          \n",
    "geocoded_coordinates คือ พิกัดของละติจูด และลองจิจูด ณ ที่เกิดเหตุ  \n",
    "perp_age_group คือ ช่วงอายุของคนร้าย                \n",
    "perp_sex คือ เพศของคนร้าย                      \n",
    "perp_race คือ เชื้อชาติของคนร้าย                     \n",
    "location_desc คือ คำอธิบายสถานที่เกิดเหตุ"
   ]
  },
  {
   "cell_type": "code",
   "execution_count": 9,
   "metadata": {},
   "outputs": [
    {
     "data": {
      "text/html": [
       "<div>\n",
       "<style scoped>\n",
       "    .dataframe tbody tr th:only-of-type {\n",
       "        vertical-align: middle;\n",
       "    }\n",
       "\n",
       "    .dataframe tbody tr th {\n",
       "        vertical-align: top;\n",
       "    }\n",
       "\n",
       "    .dataframe thead th {\n",
       "        text-align: right;\n",
       "    }\n",
       "</style>\n",
       "<table border=\"1\" class=\"dataframe\">\n",
       "  <thead>\n",
       "    <tr style=\"text-align: right;\">\n",
       "      <th></th>\n",
       "      <th>incident_key</th>\n",
       "      <th>occur_date</th>\n",
       "      <th>occur_time</th>\n",
       "      <th>borough</th>\n",
       "      <th>police_precinct</th>\n",
       "      <th>jurisdiction_code</th>\n",
       "      <th>statistical_murder_flag</th>\n",
       "      <th>vic_age_group</th>\n",
       "      <th>vic_sex</th>\n",
       "      <th>vic_race</th>\n",
       "      <th>...</th>\n",
       "      <th>community_districts</th>\n",
       "      <th>borough_boundaries</th>\n",
       "      <th>city_council_districts</th>\n",
       "      <th>precinct</th>\n",
       "      <th>geocoded_type</th>\n",
       "      <th>geocoded_coordinates</th>\n",
       "      <th>perp_age_group</th>\n",
       "      <th>perp_sex</th>\n",
       "      <th>perp_race</th>\n",
       "      <th>location_desc</th>\n",
       "    </tr>\n",
       "  </thead>\n",
       "  <tbody>\n",
       "    <tr>\n",
       "      <th>0</th>\n",
       "      <td>74146165</td>\n",
       "      <td>2010-08-14T00:00:00.000</td>\n",
       "      <td>3:11:00</td>\n",
       "      <td>QUEENS</td>\n",
       "      <td>113</td>\n",
       "      <td>0</td>\n",
       "      <td>False</td>\n",
       "      <td>25-44</td>\n",
       "      <td>M</td>\n",
       "      <td>BLACK</td>\n",
       "      <td>...</td>\n",
       "      <td>41</td>\n",
       "      <td>3</td>\n",
       "      <td>47</td>\n",
       "      <td>71</td>\n",
       "      <td>Point</td>\n",
       "      <td>[-73.77534099699994, 40.66891477200004]</td>\n",
       "      <td>NaN</td>\n",
       "      <td>NaN</td>\n",
       "      <td>NaN</td>\n",
       "      <td>NaN</td>\n",
       "    </tr>\n",
       "    <tr>\n",
       "      <th>1</th>\n",
       "      <td>66928846</td>\n",
       "      <td>2009-10-17T00:00:00.000</td>\n",
       "      <td>18:03:00</td>\n",
       "      <td>BROOKLYN</td>\n",
       "      <td>67</td>\n",
       "      <td>0</td>\n",
       "      <td>True</td>\n",
       "      <td>45-64</td>\n",
       "      <td>M</td>\n",
       "      <td>BLACK</td>\n",
       "      <td>...</td>\n",
       "      <td>61</td>\n",
       "      <td>2</td>\n",
       "      <td>26</td>\n",
       "      <td>40</td>\n",
       "      <td>Point</td>\n",
       "      <td>[-73.93130224699998, 40.65087729100002]</td>\n",
       "      <td>NaN</td>\n",
       "      <td>NaN</td>\n",
       "      <td>NaN</td>\n",
       "      <td>NaN</td>\n",
       "    </tr>\n",
       "    <tr>\n",
       "      <th>2</th>\n",
       "      <td>29114164</td>\n",
       "      <td>2007-05-18T00:00:00.000</td>\n",
       "      <td>23:00:00</td>\n",
       "      <td>BROOKLYN</td>\n",
       "      <td>75</td>\n",
       "      <td>0</td>\n",
       "      <td>False</td>\n",
       "      <td>25-44</td>\n",
       "      <td>M</td>\n",
       "      <td>BLACK</td>\n",
       "      <td>...</td>\n",
       "      <td>45</td>\n",
       "      <td>2</td>\n",
       "      <td>25</td>\n",
       "      <td>47</td>\n",
       "      <td>Point</td>\n",
       "      <td>[-73.884529479, 40.65033205800006]</td>\n",
       "      <td>NaN</td>\n",
       "      <td>NaN</td>\n",
       "      <td>NaN</td>\n",
       "      <td>NaN</td>\n",
       "    </tr>\n",
       "    <tr>\n",
       "      <th>3</th>\n",
       "      <td>85180336</td>\n",
       "      <td>2012-06-09T00:00:00.000</td>\n",
       "      <td>17:15:00</td>\n",
       "      <td>BROOKLYN</td>\n",
       "      <td>81</td>\n",
       "      <td>0</td>\n",
       "      <td>False</td>\n",
       "      <td>25-44</td>\n",
       "      <td>M</td>\n",
       "      <td>BLACK</td>\n",
       "      <td>...</td>\n",
       "      <td>69</td>\n",
       "      <td>2</td>\n",
       "      <td>17</td>\n",
       "      <td>52</td>\n",
       "      <td>Point</td>\n",
       "      <td>[-73.92303235699995, 40.68452304300007]</td>\n",
       "      <td>NaN</td>\n",
       "      <td>NaN</td>\n",
       "      <td>NaN</td>\n",
       "      <td>NaN</td>\n",
       "    </tr>\n",
       "    <tr>\n",
       "      <th>4</th>\n",
       "      <td>73405770</td>\n",
       "      <td>2010-06-27T00:00:00.000</td>\n",
       "      <td>4:14:00</td>\n",
       "      <td>BRONX</td>\n",
       "      <td>47</td>\n",
       "      <td>0</td>\n",
       "      <td>False</td>\n",
       "      <td>25-44</td>\n",
       "      <td>M</td>\n",
       "      <td>BLACK</td>\n",
       "      <td>...</td>\n",
       "      <td>29</td>\n",
       "      <td>5</td>\n",
       "      <td>2</td>\n",
       "      <td>30</td>\n",
       "      <td>Point</td>\n",
       "      <td>[-73.85786021699995, 40.88947350500007]</td>\n",
       "      <td>NaN</td>\n",
       "      <td>NaN</td>\n",
       "      <td>NaN</td>\n",
       "      <td>NaN</td>\n",
       "    </tr>\n",
       "    <tr>\n",
       "      <th>...</th>\n",
       "      <td>...</td>\n",
       "      <td>...</td>\n",
       "      <td>...</td>\n",
       "      <td>...</td>\n",
       "      <td>...</td>\n",
       "      <td>...</td>\n",
       "      <td>...</td>\n",
       "      <td>...</td>\n",
       "      <td>...</td>\n",
       "      <td>...</td>\n",
       "      <td>...</td>\n",
       "      <td>...</td>\n",
       "      <td>...</td>\n",
       "      <td>...</td>\n",
       "      <td>...</td>\n",
       "      <td>...</td>\n",
       "      <td>...</td>\n",
       "      <td>...</td>\n",
       "      <td>...</td>\n",
       "      <td>...</td>\n",
       "      <td>...</td>\n",
       "    </tr>\n",
       "    <tr>\n",
       "      <th>995</th>\n",
       "      <td>82157674</td>\n",
       "      <td>2011-12-13T00:00:00.000</td>\n",
       "      <td>10:09:00</td>\n",
       "      <td>QUEENS</td>\n",
       "      <td>101</td>\n",
       "      <td>0</td>\n",
       "      <td>False</td>\n",
       "      <td>18-24</td>\n",
       "      <td>M</td>\n",
       "      <td>BLACK</td>\n",
       "      <td>...</td>\n",
       "      <td>51</td>\n",
       "      <td>3</td>\n",
       "      <td>47</td>\n",
       "      <td>59</td>\n",
       "      <td>Point</td>\n",
       "      <td>[-73.78441919999993, 40.593768616000034]</td>\n",
       "      <td>18-24</td>\n",
       "      <td>M</td>\n",
       "      <td>BLACK</td>\n",
       "      <td>COMMERCIAL BLDG</td>\n",
       "    </tr>\n",
       "    <tr>\n",
       "      <th>996</th>\n",
       "      <td>85127160</td>\n",
       "      <td>2012-06-06T00:00:00.000</td>\n",
       "      <td>12:48:00</td>\n",
       "      <td>QUEENS</td>\n",
       "      <td>113</td>\n",
       "      <td>0</td>\n",
       "      <td>False</td>\n",
       "      <td>25-44</td>\n",
       "      <td>M</td>\n",
       "      <td>BLACK</td>\n",
       "      <td>...</td>\n",
       "      <td>41</td>\n",
       "      <td>3</td>\n",
       "      <td>6</td>\n",
       "      <td>71</td>\n",
       "      <td>Point</td>\n",
       "      <td>[-73.78449435899995, 40.69320713200006]</td>\n",
       "      <td>18-24</td>\n",
       "      <td>M</td>\n",
       "      <td>BLACK</td>\n",
       "      <td>NaN</td>\n",
       "    </tr>\n",
       "    <tr>\n",
       "      <th>997</th>\n",
       "      <td>85910307</td>\n",
       "      <td>2012-07-24T00:00:00.000</td>\n",
       "      <td>19:33:00</td>\n",
       "      <td>BROOKLYN</td>\n",
       "      <td>77</td>\n",
       "      <td>0</td>\n",
       "      <td>False</td>\n",
       "      <td>18-24</td>\n",
       "      <td>M</td>\n",
       "      <td>BLACK</td>\n",
       "      <td>...</td>\n",
       "      <td>16</td>\n",
       "      <td>2</td>\n",
       "      <td>48</td>\n",
       "      <td>49</td>\n",
       "      <td>Point</td>\n",
       "      <td>[-73.93511008699994, 40.67081759000007]</td>\n",
       "      <td>NaN</td>\n",
       "      <td>NaN</td>\n",
       "      <td>NaN</td>\n",
       "      <td>NaN</td>\n",
       "    </tr>\n",
       "    <tr>\n",
       "      <th>998</th>\n",
       "      <td>91744329</td>\n",
       "      <td>2013-07-21T00:00:00.000</td>\n",
       "      <td>22:25:00</td>\n",
       "      <td>BROOKLYN</td>\n",
       "      <td>77</td>\n",
       "      <td>0</td>\n",
       "      <td>False</td>\n",
       "      <td>25-44</td>\n",
       "      <td>M</td>\n",
       "      <td>BLACK</td>\n",
       "      <td>...</td>\n",
       "      <td>16</td>\n",
       "      <td>2</td>\n",
       "      <td>17</td>\n",
       "      <td>49</td>\n",
       "      <td>Point</td>\n",
       "      <td>[-73.92964991099996, 40.66966980800004]</td>\n",
       "      <td>NaN</td>\n",
       "      <td>NaN</td>\n",
       "      <td>NaN</td>\n",
       "      <td>NaN</td>\n",
       "    </tr>\n",
       "    <tr>\n",
       "      <th>999</th>\n",
       "      <td>183308090</td>\n",
       "      <td>2018-05-30T00:00:00.000</td>\n",
       "      <td>23:45:00</td>\n",
       "      <td>BROOKLYN</td>\n",
       "      <td>75</td>\n",
       "      <td>2</td>\n",
       "      <td>True</td>\n",
       "      <td>45-64</td>\n",
       "      <td>M</td>\n",
       "      <td>BLACK</td>\n",
       "      <td>...</td>\n",
       "      <td>45</td>\n",
       "      <td>2</td>\n",
       "      <td>25</td>\n",
       "      <td>47</td>\n",
       "      <td>Point</td>\n",
       "      <td>[-73.88129686, 40.66048172]</td>\n",
       "      <td>18-24</td>\n",
       "      <td>M</td>\n",
       "      <td>BLACK</td>\n",
       "      <td>MULTI DWELL - PUBLIC HOUS</td>\n",
       "    </tr>\n",
       "  </tbody>\n",
       "</table>\n",
       "<p>1000 rows × 25 columns</p>\n",
       "</div>"
      ],
      "text/plain": [
       "    incident_key               occur_date occur_time   borough  \\\n",
       "0       74146165  2010-08-14T00:00:00.000    3:11:00    QUEENS   \n",
       "1       66928846  2009-10-17T00:00:00.000   18:03:00  BROOKLYN   \n",
       "2       29114164  2007-05-18T00:00:00.000   23:00:00  BROOKLYN   \n",
       "3       85180336  2012-06-09T00:00:00.000   17:15:00  BROOKLYN   \n",
       "4       73405770  2010-06-27T00:00:00.000    4:14:00     BRONX   \n",
       "..           ...                      ...        ...       ...   \n",
       "995     82157674  2011-12-13T00:00:00.000   10:09:00    QUEENS   \n",
       "996     85127160  2012-06-06T00:00:00.000   12:48:00    QUEENS   \n",
       "997     85910307  2012-07-24T00:00:00.000   19:33:00  BROOKLYN   \n",
       "998     91744329  2013-07-21T00:00:00.000   22:25:00  BROOKLYN   \n",
       "999    183308090  2018-05-30T00:00:00.000   23:45:00  BROOKLYN   \n",
       "\n",
       "    police_precinct jurisdiction_code  statistical_murder_flag vic_age_group  \\\n",
       "0               113                 0                    False         25-44   \n",
       "1                67                 0                     True         45-64   \n",
       "2                75                 0                    False         25-44   \n",
       "3                81                 0                    False         25-44   \n",
       "4                47                 0                    False         25-44   \n",
       "..              ...               ...                      ...           ...   \n",
       "995             101                 0                    False         18-24   \n",
       "996             113                 0                    False         25-44   \n",
       "997              77                 0                    False         18-24   \n",
       "998              77                 0                    False         25-44   \n",
       "999              75                 2                     True         45-64   \n",
       "\n",
       "    vic_sex vic_race  ... community_districts borough_boundaries  \\\n",
       "0         M    BLACK  ...                  41                  3   \n",
       "1         M    BLACK  ...                  61                  2   \n",
       "2         M    BLACK  ...                  45                  2   \n",
       "3         M    BLACK  ...                  69                  2   \n",
       "4         M    BLACK  ...                  29                  5   \n",
       "..      ...      ...  ...                 ...                ...   \n",
       "995       M    BLACK  ...                  51                  3   \n",
       "996       M    BLACK  ...                  41                  3   \n",
       "997       M    BLACK  ...                  16                  2   \n",
       "998       M    BLACK  ...                  16                  2   \n",
       "999       M    BLACK  ...                  45                  2   \n",
       "\n",
       "    city_council_districts precinct geocoded_type  \\\n",
       "0                       47       71         Point   \n",
       "1                       26       40         Point   \n",
       "2                       25       47         Point   \n",
       "3                       17       52         Point   \n",
       "4                        2       30         Point   \n",
       "..                     ...      ...           ...   \n",
       "995                     47       59         Point   \n",
       "996                      6       71         Point   \n",
       "997                     48       49         Point   \n",
       "998                     17       49         Point   \n",
       "999                     25       47         Point   \n",
       "\n",
       "                         geocoded_coordinates perp_age_group perp_sex  \\\n",
       "0     [-73.77534099699994, 40.66891477200004]            NaN      NaN   \n",
       "1     [-73.93130224699998, 40.65087729100002]            NaN      NaN   \n",
       "2          [-73.884529479, 40.65033205800006]            NaN      NaN   \n",
       "3     [-73.92303235699995, 40.68452304300007]            NaN      NaN   \n",
       "4     [-73.85786021699995, 40.88947350500007]            NaN      NaN   \n",
       "..                                        ...            ...      ...   \n",
       "995  [-73.78441919999993, 40.593768616000034]          18-24        M   \n",
       "996   [-73.78449435899995, 40.69320713200006]          18-24        M   \n",
       "997   [-73.93511008699994, 40.67081759000007]            NaN      NaN   \n",
       "998   [-73.92964991099996, 40.66966980800004]            NaN      NaN   \n",
       "999               [-73.88129686, 40.66048172]          18-24        M   \n",
       "\n",
       "    perp_race              location_desc  \n",
       "0         NaN                        NaN  \n",
       "1         NaN                        NaN  \n",
       "2         NaN                        NaN  \n",
       "3         NaN                        NaN  \n",
       "4         NaN                        NaN  \n",
       "..        ...                        ...  \n",
       "995     BLACK            COMMERCIAL BLDG  \n",
       "996     BLACK                        NaN  \n",
       "997       NaN                        NaN  \n",
       "998       NaN                        NaN  \n",
       "999     BLACK  MULTI DWELL - PUBLIC HOUS  \n",
       "\n",
       "[1000 rows x 25 columns]"
      ]
     },
     "execution_count": 9,
     "metadata": {},
     "output_type": "execute_result"
    }
   ],
   "source": [
    "df_shooting"
   ]
  },
  {
   "cell_type": "markdown",
   "metadata": {},
   "source": [
    "จาก output จะพบว่า index ของ dataframe นี้ค่อนข้างที่จะไม่เป็นระเบียบเลยเลือกที่จะเปลี่ยนชื่อ index ดูสวยงามเข้าใจได้ง่าย"
   ]
  },
  {
   "cell_type": "code",
   "execution_count": 10,
   "metadata": {},
   "outputs": [
    {
     "data": {
      "text/plain": [
       "Int64Index([  0,   1,   2,   3,   4,   5,   6,   7,   8,   9,\n",
       "            ...\n",
       "            990, 991, 992, 993, 994, 995, 996, 997, 998, 999],\n",
       "           dtype='int64', length=1000)"
      ]
     },
     "execution_count": 10,
     "metadata": {},
     "output_type": "execute_result"
    }
   ],
   "source": [
    "index_sort = [i for  i in range(1000)]\n",
    "df_shooting.index = index_sort\n",
    "df_shooting.index    "
   ]
  },
  {
   "cell_type": "markdown",
   "metadata": {},
   "source": [
    "ต่อไปจะทำการเลือกลบคอลัมน์ precinct, borough_boundaries, x_plane, y_plane, zip_codes, geocoded_type, jurisdiction_code, community_districts, city_council_districts, geocoded_coordinates, police_precinct   เนื่องจากทั้งคอลัมน์ทั้งหมดนี้ไม่ใช้ในการวิเคราะ์ข้อมูลในภายหลัง "
   ]
  },
  {
   "cell_type": "code",
   "execution_count": 11,
   "metadata": {
    "scrolled": true
   },
   "outputs": [],
   "source": [
    "# ทำการเลือกลบคอลัมน์โดยใช้คำสั่ง df_shooting.drop(['Column Name'], axis=1) \n",
    "#โดยใช้ axis=1 เนื่องจากต้องการลบ column ถ้าหากต้องการลบ row ถึงเลือกใช้ axis=0\n",
    "df_shooting = df_shooting.drop(['precinct', 'borough_boundaries','x_plane','y_plane','zip_codes','geocoded_type','jurisdiction_code','community_districts','city_council_districts','geocoded_coordinates','police_precinct'], axis=1)"
   ]
  },
  {
   "cell_type": "markdown",
   "metadata": {},
   "source": [
    "หลังจากนั้นจะทำการ clean ข้อมูลที่เป็น Missing Data(Null Data)"
   ]
  },
  {
   "cell_type": "code",
   "execution_count": 12,
   "metadata": {
    "scrolled": false
   },
   "outputs": [
    {
     "data": {
      "text/plain": [
       "incident_key                 0\n",
       "occur_date                   0\n",
       "occur_time                   0\n",
       "borough                      0\n",
       "statistical_murder_flag      0\n",
       "vic_age_group                0\n",
       "vic_sex                      0\n",
       "vic_race                     0\n",
       "latitude                     0\n",
       "longitude                    0\n",
       "perp_age_group             350\n",
       "perp_sex                   348\n",
       "perp_race                  348\n",
       "location_desc              579\n",
       "dtype: int64"
      ]
     },
     "execution_count": 12,
     "metadata": {},
     "output_type": "execute_result"
    }
   ],
   "source": [
    "df_shooting.isnull().sum() # ใช้คำสั่ง df_shooting.isnull().sum() เพื่อหาจำนวนของค่า null ในแต่ละคอลัมภ์ภายใน dataframe"
   ]
  },
  {
   "cell_type": "markdown",
   "metadata": {},
   "source": [
    "จาก output ด้านบนจะพบว่าคอลัมภ์ location_desc, perp_age_group, perp_sex และ perp_race มีค่า null อยู่เป็นจำนวนมาก โดยเฉพาะคอลัมภ์ location_desc เนื่องจากมีค่า null มากเกินไป และไม่ใช้สำหรับการวิเคราะห์ข้อมูลในภายหลังจึงเลือกลบข้อมูลทั้งคอลัมน์"
   ]
  },
  {
   "cell_type": "code",
   "execution_count": 13,
   "metadata": {},
   "outputs": [],
   "source": [
    "df_shooting = df_shooting.drop(['location_desc'], axis=1) #ทำการเลือกลบคอลัมน์ location_desc โดยใช้คำสั่ง df_shooting.drop(['Column Name'], axis=1)"
   ]
  },
  {
   "cell_type": "markdown",
   "metadata": {},
   "source": [
    "แต่ภายในคอลัมน์ perp_age_group, perp_sex และ perp_race ยังคงมีค่า null อยู่จึงทำการลบ missing value เหล่านั้นออกก่อนทำไปวิเคราะห์"
   ]
  },
  {
   "cell_type": "code",
   "execution_count": 14,
   "metadata": {
    "scrolled": false
   },
   "outputs": [],
   "source": [
    "# ทำการลบ missing value ทั้งหมดภายในคอลัมน์ perp_age_group, perp_sex และ perp_race ด้วยคำสั่ง df_shooting.dropna()\n",
    "df_shooting = df_shooting.dropna()"
   ]
  },
  {
   "cell_type": "code",
   "execution_count": 15,
   "metadata": {
    "scrolled": true
   },
   "outputs": [
    {
     "data": {
      "text/plain": [
       "incident_key               0\n",
       "occur_date                 0\n",
       "occur_time                 0\n",
       "borough                    0\n",
       "statistical_murder_flag    0\n",
       "vic_age_group              0\n",
       "vic_sex                    0\n",
       "vic_race                   0\n",
       "latitude                   0\n",
       "longitude                  0\n",
       "perp_age_group             0\n",
       "perp_sex                   0\n",
       "perp_race                  0\n",
       "dtype: int64"
      ]
     },
     "execution_count": 15,
     "metadata": {},
     "output_type": "execute_result"
    }
   ],
   "source": [
    "df_shooting.isnull().sum() #เรียกใช้คำสั่งนี้เพื่อแสดงค่า null ภายในแต่ละคอลัมน์  "
   ]
  },
  {
   "cell_type": "markdown",
   "metadata": {},
   "source": [
    "จาก output ด้านบนจะไม่พบค่า null ภายในคอลัมน์ perp_age_group, perp_sex และ perp_race แล้ว"
   ]
  },
  {
   "cell_type": "code",
   "execution_count": 16,
   "metadata": {},
   "outputs": [
    {
     "data": {
      "text/plain": [
       "6      2018-07-21T00:00:00.000\n",
       "14     2010-10-03T00:00:00.000\n",
       "21     2010-07-02T00:00:00.000\n",
       "22     2014-03-08T00:00:00.000\n",
       "24     2010-08-09T00:00:00.000\n",
       "                ...           \n",
       "163    2009-07-04T00:00:00.000\n",
       "164    2009-08-02T00:00:00.000\n",
       "165    2013-12-10T00:00:00.000\n",
       "166    2013-04-16T00:00:00.000\n",
       "168    2006-03-18T00:00:00.000\n",
       "Name: occur_date, Length: 100, dtype: object"
      ]
     },
     "execution_count": 16,
     "metadata": {},
     "output_type": "execute_result"
    }
   ],
   "source": [
    "df_shooting['occur_date'].head(100) # ใช้คำสั่ง df_shooting['ColName'].head(num))เพื่อเรียกดูข้อมูลภายใน dataframe 100 ตัวแรก"
   ]
  },
  {
   "cell_type": "markdown",
   "metadata": {},
   "source": [
    "จาก output ด้านบนจะพบว่าข้อมูลในคอลัมภ์ occur_date จะเป็นข้อมูลวันเดือนปี ที่มีเวลา timestamp เพิ่มมาด้วยโดยจะแบ่งเป็นตัวที่ 0-9 ตัวแรกเป็นข้อมูลที่เราต้องการคือ วันเดือนปีที่เกิดเหตุ และตัวที่ 10 เป็นต้นไปคือ timestamp ที่จะต้องทำการตัดทิ้งเนื่องจากเรามีคอลัมภ์ occur_time อยู่แล้ว และ timestamp นั้นมีค่าเป็น 0 ทั้งหมด"
   ]
  },
  {
   "cell_type": "code",
   "execution_count": 17,
   "metadata": {
    "scrolled": true
   },
   "outputs": [],
   "source": [
    "occur_date2 = [] #สร้าง list ใหม่ที่ชื่อว่า occur_date2 เพื่อต้องการเก็บข้อมูลวันเดือนปีหลังจากตัดส่วน timestamp ทิ้งไปแล้ว\n",
    "for i in df_shooting['occur_date']: #ทำการวนลูป for โดยที่ให้ i เป็นข้อมูลแต่ละตัวที่อยู่ในคอลัมน์ occur_date\n",
    "    date = i[0:10]                  #ให้ตัวแปร date คือ ข้อมูลแต่ละตัวที่อยู่ในคอลัมน์ occur_date ตั้งแต่ตัวที่ 0-9\n",
    "    occur_date2.append(date)        #นำ date เข้าไปเก็บไว้ใน list ที่ชื่อว่า occcur_date2 ด้วยคำสั่ง listname.append()\n",
    "df_shooting['occur_date2'] = occur_date2 \n",
    "#ทำการสร้างคอลัมน์ใหม่ใน dataframe ที่ชืื่อว่า occur_date2 ด้วยข้อมูลจาก occur_date2 เป็น list ที่เราทำการเก็บข้อมูลวันเดือนปีไว้"
   ]
  },
  {
   "cell_type": "markdown",
   "metadata": {},
   "source": [
    "หลังจากทำการตัด timestamp ทิ้งแล้วเก็บข้อมูลวันเดือนปีไว้ในคอลัมน์ occur_date2 เราจึงลบข้อมูลภายในคอลัมน์ occur_date"
   ]
  },
  {
   "cell_type": "code",
   "execution_count": 18,
   "metadata": {},
   "outputs": [],
   "source": [
    "#เนื่องจากเราไม่ต้องการใช้ข้อมูลภายในคอลัมน์ occur_date แล้วจึงทำการลบคอลัมน์นั้นทิ้ง\n",
    "df_shooting = df_shooting.drop(['occur_date'], axis=1) #โดยใช้คำสั่ง df_shooting.drop(['Column Name'], axis=1)"
   ]
  },
  {
   "cell_type": "code",
   "execution_count": 19,
   "metadata": {
    "scrolled": true
   },
   "outputs": [
    {
     "data": {
      "text/plain": [
       "6     2018-07-21\n",
       "14    2010-10-03\n",
       "21    2010-07-02\n",
       "22    2014-03-08\n",
       "24    2010-08-09\n",
       "Name: occur_date2, dtype: object"
      ]
     },
     "execution_count": 19,
     "metadata": {},
     "output_type": "execute_result"
    }
   ],
   "source": [
    "df_shooting['occur_date2'].head(5) #เรียกดูข้อมูล 5 ตัวแรกในคอลัมน์ occur_date2 "
   ]
  },
  {
   "cell_type": "markdown",
   "metadata": {},
   "source": [
    "จาก output ด้านบนจะเห็นได้ว่าข้อมูลภายในคอลัมน์ occur_date2 ไม่มีเวลา timestamp แล้วแต่ยังต้องการแบ่งข้อมูลออกเป็น 3 คอลัมน์เพื่อให้ง่ายต่อการวิเคราะห์มากขึ้นโดยแบ่งคอลัมน์ดังนี้ Year, Month, Day"
   ]
  },
  {
   "cell_type": "code",
   "execution_count": 20,
   "metadata": {},
   "outputs": [],
   "source": [
    "#ทำการแบ่งคอลัมน์ occur_date2 ออกเป็น 3 คอลัมน์คือ Year, Month, Day\n",
    "#เนื่องจากข้อมูลมีภายในคอลัมน์ occur_date2 มีค่าเป็น YYYY-MM-DD จึงทำการตัดข้อมูลออกเป็น 3 คอลัมน์ด้วย '-'\n",
    "\n",
    "df_shooting[['Year','Month','Day']] = df_shooting['occur_date2'].str.split(\"-\",expand=True) \n",
    "\n",
    "#สร้างคอลัมน์ใหม่ที่มีชื่อ Year, Month, Day โดยให้มีค่าเท่ากับคอลัมน์ occur_date2 ที่ทำการตัดข้อมูลจาก '-' ด้วยคำสั่ง df_shooting['ColName'].str.split(\"-\",expand=True) \n",
    "# expand=True คือ เมื่อเราทำการ split string แยกเป็นแต่ละคอลัมน์แล้วต้องการให้ return ผลลัพธ์เป็น dataframe \n",
    "# expand=False คือ เมื่อเราทำการ split string แยกเป็นแต่ละคอลัมน์แล้วต้องการให้ return ผลลัพธ์เป็น series"
   ]
  },
  {
   "cell_type": "code",
   "execution_count": 21,
   "metadata": {
    "scrolled": true
   },
   "outputs": [
    {
     "data": {
      "text/html": [
       "<div>\n",
       "<style scoped>\n",
       "    .dataframe tbody tr th:only-of-type {\n",
       "        vertical-align: middle;\n",
       "    }\n",
       "\n",
       "    .dataframe tbody tr th {\n",
       "        vertical-align: top;\n",
       "    }\n",
       "\n",
       "    .dataframe thead th {\n",
       "        text-align: right;\n",
       "    }\n",
       "</style>\n",
       "<table border=\"1\" class=\"dataframe\">\n",
       "  <thead>\n",
       "    <tr style=\"text-align: right;\">\n",
       "      <th></th>\n",
       "      <th>Year</th>\n",
       "      <th>Month</th>\n",
       "      <th>Day</th>\n",
       "    </tr>\n",
       "  </thead>\n",
       "  <tbody>\n",
       "    <tr>\n",
       "      <th>6</th>\n",
       "      <td>2018</td>\n",
       "      <td>07</td>\n",
       "      <td>21</td>\n",
       "    </tr>\n",
       "    <tr>\n",
       "      <th>14</th>\n",
       "      <td>2010</td>\n",
       "      <td>10</td>\n",
       "      <td>03</td>\n",
       "    </tr>\n",
       "    <tr>\n",
       "      <th>21</th>\n",
       "      <td>2010</td>\n",
       "      <td>07</td>\n",
       "      <td>02</td>\n",
       "    </tr>\n",
       "    <tr>\n",
       "      <th>22</th>\n",
       "      <td>2014</td>\n",
       "      <td>03</td>\n",
       "      <td>08</td>\n",
       "    </tr>\n",
       "    <tr>\n",
       "      <th>24</th>\n",
       "      <td>2010</td>\n",
       "      <td>08</td>\n",
       "      <td>09</td>\n",
       "    </tr>\n",
       "    <tr>\n",
       "      <th>...</th>\n",
       "      <td>...</td>\n",
       "      <td>...</td>\n",
       "      <td>...</td>\n",
       "    </tr>\n",
       "    <tr>\n",
       "      <th>993</th>\n",
       "      <td>2011</td>\n",
       "      <td>07</td>\n",
       "      <td>18</td>\n",
       "    </tr>\n",
       "    <tr>\n",
       "      <th>994</th>\n",
       "      <td>2017</td>\n",
       "      <td>07</td>\n",
       "      <td>11</td>\n",
       "    </tr>\n",
       "    <tr>\n",
       "      <th>995</th>\n",
       "      <td>2011</td>\n",
       "      <td>12</td>\n",
       "      <td>13</td>\n",
       "    </tr>\n",
       "    <tr>\n",
       "      <th>996</th>\n",
       "      <td>2012</td>\n",
       "      <td>06</td>\n",
       "      <td>06</td>\n",
       "    </tr>\n",
       "    <tr>\n",
       "      <th>999</th>\n",
       "      <td>2018</td>\n",
       "      <td>05</td>\n",
       "      <td>30</td>\n",
       "    </tr>\n",
       "  </tbody>\n",
       "</table>\n",
       "<p>650 rows × 3 columns</p>\n",
       "</div>"
      ],
      "text/plain": [
       "     Year Month Day\n",
       "6    2018    07  21\n",
       "14   2010    10  03\n",
       "21   2010    07  02\n",
       "22   2014    03  08\n",
       "24   2010    08  09\n",
       "..    ...   ...  ..\n",
       "993  2011    07  18\n",
       "994  2017    07  11\n",
       "995  2011    12  13\n",
       "996  2012    06  06\n",
       "999  2018    05  30\n",
       "\n",
       "[650 rows x 3 columns]"
      ]
     },
     "execution_count": 21,
     "metadata": {},
     "output_type": "execute_result"
    }
   ],
   "source": [
    "df_shooting[['Year','Month','Day']] #แสดงข้อมูลในคอลัมน์ Year, Month, Day"
   ]
  },
  {
   "cell_type": "markdown",
   "metadata": {},
   "source": [
    "จาก output จะพบว่าข้อมูล วันเดือนปีถูกแบ่งออกในแต่ละคอลัมน์เรียบร้อยแล้ว"
   ]
  },
  {
   "cell_type": "markdown",
   "metadata": {},
   "source": [
    "ต่อไปจะทำการวิเคราะห์ value ในแต่ละคอลัมน์ว่ามีค่า null หรือ ค่าที่ผิดปกติหรือไม่เนื่องจากข้อมูลที่เราต้องการใช้เป็น categorical "
   ]
  },
  {
   "cell_type": "markdown",
   "metadata": {},
   "source": [
    "เริ่มจากวิเคราะห์ value ภายในคอลัมน์ perp_age_group"
   ]
  },
  {
   "cell_type": "code",
   "execution_count": 22,
   "metadata": {},
   "outputs": [
    {
     "data": {
      "text/plain": [
       "18-24      243\n",
       "25-44      176\n",
       "UNKNOWN    147\n",
       "<18         64\n",
       "45-64       17\n",
       "65+          2\n",
       "1020         1\n",
       "Name: perp_age_group, dtype: int64"
      ]
     },
     "execution_count": 22,
     "metadata": {},
     "output_type": "execute_result"
    }
   ],
   "source": [
    "df_shooting['perp_age_group'].value_counts() #ใช้คำสั่ง df_shooting['ColName'].value_counts() เพื่อเรียกดู value ของคอลัมน์ perp_age_group "
   ]
  },
  {
   "cell_type": "markdown",
   "metadata": {},
   "source": [
    "จากการแสดง output ด้านบนทำให้เห็นว่าคอลัมน์ perp_age_group มีค่า value ที่ต้องลบทิ้ง คือ 'UNKNOWN' และ '1020' ที่มีค่า null และมีค่าช่วงอายุที่มากผิดปกติ ไม่เป็นความจริง(outlier) ด้วยคำสั่งด้านล่างนี้"
   ]
  },
  {
   "cell_type": "code",
   "execution_count": 23,
   "metadata": {},
   "outputs": [],
   "source": [
    "perp_age = df_shooting[df_shooting['perp_age_group'] == '1020'].index \n",
    "#ให้ตัวแปร perp_age มีค่าเท่ากับ index ตัวที่ value ภายในคอลัมน์ perp_age_group = '1020' ด้วยคำสั่ง df[df['ColName']== Value].index\n",
    "df_shooting.drop(perp_age, inplace = True) #ทำการลบ index ที่มี value ในคอลัมน์ perp_age_group = '1020'\n",
    "perp_age2 = df_shooting[df_shooting['perp_age_group'] == 'UNKNOWN'].index\n",
    "#ให้ตัวแปร perp_age2 มีค่าเท่ากับ index ตัวที่ value ภายในคอลัมน์ perp_age_group = 'UNKNOWN' ด้วยคำสั่ง df[df['ColName']== Value].index\n",
    "df_shooting.drop(perp_age2, inplace = True)\n",
    "#ทำการลบ index ที่มี value ในคอลัมน์ perp_age_group = 'UNKNOWN'"
   ]
  },
  {
   "cell_type": "code",
   "execution_count": 24,
   "metadata": {
    "scrolled": false
   },
   "outputs": [
    {
     "data": {
      "text/plain": [
       "18-24    243\n",
       "25-44    176\n",
       "<18       64\n",
       "45-64     17\n",
       "65+        2\n",
       "Name: perp_age_group, dtype: int64"
      ]
     },
     "execution_count": 24,
     "metadata": {},
     "output_type": "execute_result"
    }
   ],
   "source": [
    "df_shooting['perp_age_group'].value_counts() #เรียกดู value ภายในคอลัมน์ perp_age_group"
   ]
  },
  {
   "cell_type": "markdown",
   "metadata": {},
   "source": [
    "จะเห็นได้ว่า output เมื่อทำการเรียกดู value ของคอลัมน์ perp_age_group ไม่มี value 'UNKNOWN' และ '1020' แล้ว"
   ]
  },
  {
   "cell_type": "markdown",
   "metadata": {},
   "source": [
    "ต่อไปจะทำการวิเคราะห์ value ภายในคอลัมน์ perp_sex"
   ]
  },
  {
   "cell_type": "code",
   "execution_count": 25,
   "metadata": {
    "scrolled": true
   },
   "outputs": [
    {
     "data": {
      "text/plain": [
       "M    491\n",
       "F     10\n",
       "U      1\n",
       "Name: perp_sex, dtype: int64"
      ]
     },
     "execution_count": 25,
     "metadata": {},
     "output_type": "execute_result"
    }
   ],
   "source": [
    "df_shooting['perp_sex'].value_counts() #ใช้คำสั่ง df_shooting['Column Name'].value_counts()เพื่อทำการเรียกดู value ของคอลัมน์ perp_sex"
   ]
  },
  {
   "cell_type": "markdown",
   "metadata": {},
   "source": [
    "จะเห็นได้ว่าจาก output เมื่อทำการเรียกดู value ของคอลัมน์ perp_sex จะพบ value 'U' ที่ไม่ใช่ค่าที่แสดงเพศชาย หรือ หญิงจึงต้องทำการลบทิ้ง"
   ]
  },
  {
   "cell_type": "code",
   "execution_count": 26,
   "metadata": {},
   "outputs": [],
   "source": [
    "perp_sex = df_shooting[df_shooting['perp_sex'] == 'U'].index\n",
    "#ให้ตัวแปร perp_sex มีค่าเท่ากับ index ตัวที่ value ภายในคอลัมน์ perp_sex = 'U' ด้วยคำสั่ง df[df['ColName']== Value].index\n",
    "df_shooting.drop(perp_sex, inplace = True)\n",
    "#ทำการลบ index ที่มี value ในคอลัมน์ perp_sex = 'U'"
   ]
  },
  {
   "cell_type": "code",
   "execution_count": 27,
   "metadata": {},
   "outputs": [
    {
     "data": {
      "text/plain": [
       "M    491\n",
       "F     10\n",
       "Name: perp_sex, dtype: int64"
      ]
     },
     "execution_count": 27,
     "metadata": {},
     "output_type": "execute_result"
    }
   ],
   "source": [
    "df_shooting['perp_sex'].value_counts()  #เรียกดู value ภายในคอลัมน์ perp_sex"
   ]
  },
  {
   "cell_type": "markdown",
   "metadata": {},
   "source": [
    "จะเห็นได้ว่า output เมื่อทำการเรียกดู value ของคอลัมน์ perp_sex ไม่มี value 'U' แล้ว"
   ]
  },
  {
   "cell_type": "markdown",
   "metadata": {},
   "source": [
    "ต่อไปจะทำการวิเคราะห์ value ภายในคอลัมน์ perp_race"
   ]
  },
  {
   "cell_type": "code",
   "execution_count": 28,
   "metadata": {
    "scrolled": true
   },
   "outputs": [
    {
     "data": {
      "text/plain": [
       "BLACK                       367\n",
       "WHITE HISPANIC               72\n",
       "BLACK HISPANIC               39\n",
       "WHITE                        12\n",
       "UNKNOWN                      10\n",
       "ASIAN / PACIFIC ISLANDER      1\n",
       "Name: perp_race, dtype: int64"
      ]
     },
     "execution_count": 28,
     "metadata": {},
     "output_type": "execute_result"
    }
   ],
   "source": [
    "df_shooting['perp_race'].value_counts() #ใช้คำสั่ง df_shooting['Column Name'].value_counts() เพื่อทำการเรียกดู value ของคอลัมน์ perp_race"
   ]
  },
  {
   "cell_type": "markdown",
   "metadata": {},
   "source": [
    "จาก output เมื่อทำการเรียกดู value ของคอลัมน์ perp_race ทำให้พบ value ที่มีค่า 'UNKNOWN' อยู่ซึ่งจะต้องทำการลบทิ้งเนื่องจากเป็นค่า null"
   ]
  },
  {
   "cell_type": "code",
   "execution_count": 29,
   "metadata": {},
   "outputs": [],
   "source": [
    "perp_race = df_shooting[df_shooting['perp_race'] == 'UNKNOWN'].index\n",
    "#ให้ตัวแปร perp_race มีค่าเท่ากับ index ตัวที่ value ภายในคอลัมน์ perp_race = 'UNKNOWN' ด้วยคำสั่ง df[df['ColName']== Value].index\n",
    "df_shooting.drop(perp_race, inplace = True)\n",
    "#ทำการลบ index ที่มี value ในคอลัมน์ perp_race = 'UNKNOWN'"
   ]
  },
  {
   "cell_type": "code",
   "execution_count": 30,
   "metadata": {
    "scrolled": true
   },
   "outputs": [
    {
     "data": {
      "text/plain": [
       "BLACK                       367\n",
       "WHITE HISPANIC               72\n",
       "BLACK HISPANIC               39\n",
       "WHITE                        12\n",
       "ASIAN / PACIFIC ISLANDER      1\n",
       "Name: perp_race, dtype: int64"
      ]
     },
     "execution_count": 30,
     "metadata": {},
     "output_type": "execute_result"
    }
   ],
   "source": [
    "df_shooting['perp_race'].value_counts() # เรียกดู value ภายในคอลัมน์ perp_race"
   ]
  },
  {
   "cell_type": "markdown",
   "metadata": {},
   "source": [
    "จะเห็นได้ว่า output เมื่อทำการเรียกดู value ของคอลัมภ์ perp_race ไม่มี value 'UNKNOWN' แล้ว"
   ]
  },
  {
   "cell_type": "markdown",
   "metadata": {},
   "source": [
    "ต่อไปจะทำการวิเคราะห์ value ภายในคอลัมน์ vic_age_group"
   ]
  },
  {
   "cell_type": "code",
   "execution_count": 31,
   "metadata": {
    "scrolled": true
   },
   "outputs": [
    {
     "data": {
      "text/plain": [
       "18-24      202\n",
       "25-44      192\n",
       "<18         53\n",
       "45-64       38\n",
       "65+          4\n",
       "UNKNOWN      2\n",
       "Name: vic_age_group, dtype: int64"
      ]
     },
     "execution_count": 31,
     "metadata": {},
     "output_type": "execute_result"
    }
   ],
   "source": [
    "df_shooting['vic_age_group'].value_counts() #ใช้คำสั่ง df_shooting['Column Name'].value_counts()เพื่อทำการเรียกดู value ของคอลัมน์ vic_age_group"
   ]
  },
  {
   "cell_type": "markdown",
   "metadata": {},
   "source": [
    "จาก output จะเห็นว่าคอลัมน์ vic_age_group มีค่า value 'UNKNOWN' ที่ต้องลบทิ้งเนื่องจากเป็นค่า null"
   ]
  },
  {
   "cell_type": "code",
   "execution_count": 32,
   "metadata": {},
   "outputs": [],
   "source": [
    "vic_age = df_shooting[df_shooting['vic_age_group'] == 'UNKNOWN'].index\n",
    "#ให้ตัวแปร vic_age มีค่าเท่ากับ index ตัวที่ value ภายในคอลัมน์ vic_age_group = 'UNKNOWN' ด้วยคำสั่ง df[df['ColName']== Value].index\n",
    "df_shooting.drop(vic_age, inplace = True)\n",
    "#ทำการลบ index ที่มี value ในคอลัมน์ vic_age_group = 'UNKNOWN'"
   ]
  },
  {
   "cell_type": "code",
   "execution_count": 33,
   "metadata": {
    "scrolled": false
   },
   "outputs": [
    {
     "data": {
      "text/plain": [
       "18-24    202\n",
       "25-44    192\n",
       "<18       53\n",
       "45-64     38\n",
       "65+        4\n",
       "Name: vic_age_group, dtype: int64"
      ]
     },
     "execution_count": 33,
     "metadata": {},
     "output_type": "execute_result"
    }
   ],
   "source": [
    "df_shooting['vic_age_group'].value_counts() #เรียกดู value ภายในคอลัมน์ vic_age_group"
   ]
  },
  {
   "cell_type": "markdown",
   "metadata": {},
   "source": [
    "จะเห็นได้ว่า output เมื่อทำการเรียกดู value ของคอลัมภ์ vic_age_group ไม่มี value 'UNKNOWN' แล้ว"
   ]
  },
  {
   "cell_type": "markdown",
   "metadata": {},
   "source": [
    "ต่อไปจะทำการวิเคราะห์ value ภายในคอลัมน์ vic_race "
   ]
  },
  {
   "cell_type": "code",
   "execution_count": 34,
   "metadata": {
    "scrolled": false
   },
   "outputs": [
    {
     "data": {
      "text/plain": [
       "BLACK                       320\n",
       "WHITE HISPANIC               89\n",
       "BLACK HISPANIC               52\n",
       "WHITE                        20\n",
       "ASIAN / PACIFIC ISLANDER      8\n",
       "Name: vic_race, dtype: int64"
      ]
     },
     "execution_count": 34,
     "metadata": {},
     "output_type": "execute_result"
    }
   ],
   "source": [
    "df_shooting['vic_race'].value_counts() #ใช้คำสั่ง df_shooting['Column Name'].value_counts() เพื่อทำการเรียกดู value ของคอลัมน์ vic_race"
   ]
  },
  {
   "cell_type": "markdown",
   "metadata": {},
   "source": [
    "จาก output ด้านบนเมื่อทำการเรียกดู value ของคอลัมภ์ vic_race จะพบว่าค่า value ' UNKNOWN' ต้องทำการลบทิ้งเนื่องจากเป็นค่า null"
   ]
  },
  {
   "cell_type": "code",
   "execution_count": 35,
   "metadata": {},
   "outputs": [],
   "source": [
    "vic_race = df_shooting[df_shooting['vic_race'] == 'UNKNOWN'].index\n",
    "#ให้ตัวแปร vic_race มีค่าเท่ากับ index ตัวที่ value ภายในคอลัมน์ vic_race = 'UNKNOWN' ด้วยคำสั่ง df[df['ColName']== Value].index\n",
    "df_shooting.drop(vic_race, inplace = True)\n",
    "#ทำการลบ index ที่มี value ในคอลัมน์ vic_race = 'UNKNOWN'"
   ]
  },
  {
   "cell_type": "code",
   "execution_count": 36,
   "metadata": {
    "scrolled": false
   },
   "outputs": [
    {
     "data": {
      "text/plain": [
       "BLACK                       320\n",
       "WHITE HISPANIC               89\n",
       "BLACK HISPANIC               52\n",
       "WHITE                        20\n",
       "ASIAN / PACIFIC ISLANDER      8\n",
       "Name: vic_race, dtype: int64"
      ]
     },
     "execution_count": 36,
     "metadata": {},
     "output_type": "execute_result"
    }
   ],
   "source": [
    "df_shooting['vic_race'].value_counts() # เรียกดู value ภายในคอลัมน์ vic_race"
   ]
  },
  {
   "cell_type": "markdown",
   "metadata": {},
   "source": [
    "จะเห็นได้ว่า output เมื่อทำการเรียกดู value ของคอลัมภ์ vic_race ไม่มี value 'UNKNOWN' แล้ว"
   ]
  },
  {
   "cell_type": "markdown",
   "metadata": {},
   "source": [
    "หลังจาก วิเคราะห์ value แต่ละคอลัมน์เรียบร้อยแล้วจึงใช้คำสั่ง df_info() เพื่อเรียกดูข้อมูลพื้นฐานของ dataframe อีกรอบเพื่อ check ว่าข้อมูลนั้นถูก clean พร้อมใช้ในการวิเคราะห์แล้ว"
   ]
  },
  {
   "cell_type": "code",
   "execution_count": 37,
   "metadata": {},
   "outputs": [
    {
     "name": "stdout",
     "output_type": "stream",
     "text": [
      "<class 'pandas.core.frame.DataFrame'>\n",
      "Int64Index: 489 entries, 6 to 999\n",
      "Data columns (total 16 columns):\n",
      " #   Column                   Non-Null Count  Dtype \n",
      "---  ------                   --------------  ----- \n",
      " 0   incident_key             489 non-null    object\n",
      " 1   occur_time               489 non-null    object\n",
      " 2   borough                  489 non-null    object\n",
      " 3   statistical_murder_flag  489 non-null    bool  \n",
      " 4   vic_age_group            489 non-null    object\n",
      " 5   vic_sex                  489 non-null    object\n",
      " 6   vic_race                 489 non-null    object\n",
      " 7   latitude                 489 non-null    object\n",
      " 8   longitude                489 non-null    object\n",
      " 9   perp_age_group           489 non-null    object\n",
      " 10  perp_sex                 489 non-null    object\n",
      " 11  perp_race                489 non-null    object\n",
      " 12  occur_date2              489 non-null    object\n",
      " 13  Year                     489 non-null    object\n",
      " 14  Month                    489 non-null    object\n",
      " 15  Day                      489 non-null    object\n",
      "dtypes: bool(1), object(15)\n",
      "memory usage: 61.6+ KB\n"
     ]
    }
   ],
   "source": [
    "df_shooting.info() #เรียกดูข้อมูลพื้นฐานของ df_shooting"
   ]
  },
  {
   "cell_type": "markdown",
   "metadata": {},
   "source": [
    "# 5.Visualization table+graph"
   ]
  },
  {
   "cell_type": "markdown",
   "metadata": {},
   "source": [
    "1.วิเคราะห์เหยื่อแต่ละเพศมีช่วงอายุในช่วงไหน\n",
    "\n",
    "2.วิเคราะห์เหยื่อแต่ละเพศมีเชื้อชาติอะไร\n",
    "\n",
    "3.วิเคราะห์คนร้ายแต่ละเพศมีช่วงอายุอยู่ในช่วงไหน\n",
    "\n",
    "4.วิเคราะห์คนร้ายแต่ละเพศมีเชื้อชาติอะไร\n",
    "\n",
    "5.เพศของเหยื่อที่เสียชีวิตมากที่สุด\n",
    "\n",
    "6.ช่วงอายุของเหยื่อที่เสียชีวิตมากที่สุด\n",
    "\n",
    "7.เชื้อชาติของเหยื่อที่เสียชีวิตมากที่สุด\n",
    "\n",
    "8.เขตใน เมือง NYC ที่มีจำนวนการเสียชีวิตมากที่สุด\n",
    "\n",
    "9.พิกัดของผู้รอดชีวิตในแต่ละเขตของเมือง NYC\n",
    "\n",
    "10.พิกัดของผู้เสียชีวิตในแต่ละเขตของเมือง NYC\n",
    "\n",
    "11.กราฟจำนวนการเกิดเหตุการณ์ยิงใน NYC ของแต่ละปี\n",
    "\n",
    "12.วิเคราะห์แต่ละปีมีจำนวนการเสียชีวิตเป็นอย่างไร"
   ]
  },
  {
   "cell_type": "markdown",
   "metadata": {},
   "source": [
    "## 1.วิเคราะห์เหยื่อแต่ละเพศมีช่วงอายุในช่วงไหน"
   ]
  },
  {
   "cell_type": "markdown",
   "metadata": {},
   "source": [
    "ต้องการวิเคราะห์ว่าเหยื่อที่ถูกยิงแต่ละเพศมีช่วงอายุไหนที่ถูกยิงมากที่สุด และน้อยที่สุดด้วย heat map"
   ]
  },
  {
   "cell_type": "code",
   "execution_count": 38,
   "metadata": {},
   "outputs": [
    {
     "data": {
      "text/plain": [
       "Text(0.5, 1.0, 'VICTIM SEX VS AGE')"
      ]
     },
     "execution_count": 38,
     "metadata": {},
     "output_type": "execute_result"
    },
    {
     "data": {
      "image/png": "[encoded data removed]",
      "text/plain": [
       "<Figure size 432x288 with 2 Axes>"
      ]
     },
     "metadata": {
      "needs_background": "light"
     },
     "output_type": "display_data"
    }
   ],
   "source": [
    "# ให้ vic_sex_age เป็นตัวแปรเก็บ crosstab ระหว่างคอลัมน์ vic_age_group และ vic_sex \n",
    "vic_sex_age = pd.crosstab(df_shooting['vic_age_group'],df_shooting['vic_sex']) #ใช้คำสั่ง pd.crosstab(df[col1],df[col2])\n",
    "\n",
    "#สร้าง heatmap จาก crosstab ระหว่างคอลัมน์ vic_age_group และ vic_sex\n",
    "sns.heatmap(pd.crosstab(df_shooting['vic_age_group'], df_shooting['vic_sex']), annot=True, cbar=True, fmt=\"d\", linewidth=0.3)\n",
    "#สร้าง heatmap โดยใช้ seaborn as sns ด้วยคำสั่ง sns.heatmap(pd.crosstab(df[col1],df[col2]))\n",
    "#annot = True คือ ให้แสดงค่า data value ที่ count ได้\n",
    "#fmt=\"d\" คือ ให้ data value นั้นมีค่าเป็น int \n",
    "#cbar=True คือ ต้องการให้แสดงแถบสีด้านขวาด้วย\n",
    "\n",
    "# ticks \n",
    "yticks = [i.upper() for i in vic_sex_age.index] #ให้ yticks เก็บข้อมูล list of  i ตัวใหญ่ทั้งหมดโดยที่ i เป็น index ของข้อมูลภายใน vic_sex_age  \n",
    "xticks = [i.upper() for i in  vic_sex_age.columns] #ให้ xticks เก็บข้อมูล list of  i ตัวใหญ่ทั้งหมดโดยที่ i เป็น columns ของข้อมูลภายใน vic_sex_age \n",
    "#ใช้คำสั่ง plt.yticks() เพื่อกำหนดรูปแบบของ ticks \n",
    "#labels=yticks คือ ให้ label เป็น list ของข้อมูลที่เราต้องการแสดงคือ yticks\n",
    "#rotation=0 คือ กำหนดให้ label นั้นมีองศา = 0 คือไม่ต้องเอียง\n",
    "plt.yticks(plt.yticks()[0], labels=yticks, rotation=0) \n",
    "plt.xticks(plt.xticks()[0], labels=xticks, rotation=0)\n",
    "\n",
    "# title\n",
    "title = 'VICTIM SEX VS AGE' #ให้ตัวแปร title เก็บชื่อ title ของ graph นี้\n",
    "plt.title(title, loc='center', fontsize=18) #ให้คำสั่ง plt.title() แสดงชื่อ title โดยมี location ที่ center ขนาดฟ้อน = 18"
   ]
  },
  {
   "cell_type": "markdown",
   "metadata": {},
   "source": [
    "จากผลลัพธ์ของกราฟ heatmap แสดงให้เห็นว่า \n",
    "- เหยื่อที่ถูกยิงมักเป็นเพศชายมากกว่าเพศหญิงโดยดูได้จากสีชมพู คือ มีจำนวนสูงมากกว่าสีม่วง \n",
    "- ในฝั่งของเพศชาย มีจำนวนการถูกยิงอยู่ในช่วงอายุ 18-24 ปีมากที่สุด คือ 179 cases และช่วงอายุที่ต่ำสุด คือ 65 ปีขึ้นไปมีเพียง 2 cases\n",
    "- ในฝั่งของเพศหญิง มีจำนวนการถูกยิงอยู่ในช่วงอายุ 18-24 ปีมากที่สุด คือ 22 cases และช่วงอายุที่ต่ำสุด คือ 65 ปีขึ้นไปมีเพียง 2 cases\n",
    "- สังเกตเห็นได้ว่าช่วงอายุของเหยื่อทั้งเพศชาย และหญิงที่ถูกยิงมากที่สุด คือ 18-24 ปี หรือ ช่วงวัยรุ่น และน้อยที่สุด คือ 65 ปีขึ้นไป หรือ คนชรา อยู่ในช่วงอายุเหมือนกันรวมถึงในช่วงอายุอื่นก็มีจำนวนการยิงที่เป็นลำดับเหมือนกันระหว่างเพศชาย และหญิงจากมากไปน้อยดังนี้ 18-24 -> 25-44 -> น้อยกว่า 18 -> 45-64 -> 65 ปีขึ้นไป แต่อย่างไรก็ตามเพศชายมีจำนวนการถูกยิงที่มากกว่าเพศหญิงอยู่มาก\n"
   ]
  },
  {
   "cell_type": "markdown",
   "metadata": {},
   "source": [
    "## 2.วิเคราะห์เหยื่อแต่ละเพศมีเชื้อชาติอะไร"
   ]
  },
  {
   "cell_type": "markdown",
   "metadata": {},
   "source": [
    "ต้องการวิเคราะห์ว่าเหยื่อที่ถูกยิงแต่ละเพศมีเชื้อชาติไหนที่ถูกยิงมากที่สุด และน้อยที่สุดด้วย heat map"
   ]
  },
  {
   "cell_type": "code",
   "execution_count": 39,
   "metadata": {
    "scrolled": true
   },
   "outputs": [
    {
     "data": {
      "text/plain": [
       "Text(0.5, 1.0, 'VICTIM SEX VS RACE')"
      ]
     },
     "execution_count": 39,
     "metadata": {},
     "output_type": "execute_result"
    },
    {
     "data": {
      "image/png": "[encoded data removed]",
      "text/plain": [
       "<Figure size 432x288 with 2 Axes>"
      ]
     },
     "metadata": {
      "needs_background": "light"
     },
     "output_type": "display_data"
    }
   ],
   "source": [
    "# ให้ vic_sex_race เป็นตัวแปรเก็บ crosstab ระหว่างคอลัมน์ vic_race และ vic_sex \n",
    "vic_sex_race = pd.crosstab(df_shooting['vic_race'],df_shooting['vic_sex'])\n",
    "\n",
    "#สร้าง heatmap จาก crosstab ระหว่างคอลัมน์ vic_race และ vic_sex\n",
    "sns.heatmap(pd.crosstab(df_shooting['vic_race'], df_shooting['vic_sex']), annot=True, cbar=True, fmt=\"d\" ,linewidth=0.3)\n",
    "\n",
    "# ticks\n",
    "yticks = [i.upper() for i in vic_sex_race.index] #ให้ yticks เก็บข้อมูล list of  i ตัวใหญ่ทั้งหมดโดยที่ i เป็น index ของข้อมูลภายใน vic_sex_race\n",
    "xticks = [i.upper() for i in  vic_sex_race.columns] #ให้ xticks เก็บข้อมูล list of  i ตัวใหญ่ทั้งหมดโดยที่ i เป็น columns ของข้อมูลภายใน vic_sex_race\n",
    "plt.yticks(plt.yticks()[0], labels=yticks, rotation=0)\n",
    "plt.xticks(plt.xticks()[0], labels=xticks, rotation=0)\n",
    "\n",
    "# title\n",
    "title = 'VICTIM SEX VS RACE'\n",
    "plt.title(title, loc='center', fontsize=18)"
   ]
  },
  {
   "cell_type": "markdown",
   "metadata": {},
   "source": [
    "จากผลลัพธ์ของกราฟ heatmap แสดงให้เห็นว่า \n",
    "- ในฝั่งของเพศชาย มีจำนวนการถูกยิงที่มีเชื้อชาติ BLACK มากที่สุด คือ 288 cases และเชื้อชาติ ASIAN/PACIFIC ISLANDER น้อยที่สุดโดยมีจำนวน 8 cases\n",
    "- ในฝั่งของเพศหญิง มีจำนวนการถูกยิงที่มีเชื้อชาติ BLACK มากที่สุด คือ 32 cases และเชื้อชาติ ASIAN/PACIFIC ISLANDER น้อยที่สุดโดยมีจำนวน 0 cases\n",
    "- สังเกตเห็นได้ว่าเชื้อชาติของเหยื่อทั้งเพศชาย และหญิงที่ถูกยิงมากที่สุด คือ BLACK และน้อยที่สุด คือ ASIAN/PACIFIC ISLANDER เหมือนกัน\n",
    "- จำนวนเหยื่อที่ถูกยิงทั้งเพศชาย และหญิงมีลำดับจากมากที่สุดไปน้อยสุดเหมือนกันดังนี้ \n",
    "    BLACK -> WHITE HISPANIC -> BLACK HISPANIC -> WHITE -> ASIAN/PACIFIC ISLANDER ซึ่งเราจะเห็นได้ว่าเชื้อชาติ BLACK มีจำนวนการถูกยิงที่สูง "
   ]
  },
  {
   "cell_type": "markdown",
   "metadata": {},
   "source": [
    "## 3.วิเคราะห์คนร้ายแต่ละเพศมีช่วงอายุอยู่ในช่วงไหน"
   ]
  },
  {
   "cell_type": "markdown",
   "metadata": {},
   "source": [
    "ต้องการวิเคราะห์ว่าคนร้ายแต่ละเพศมีช่วงอายุไหนมากที่สุด และน้อยที่สุดด้วย heat map"
   ]
  },
  {
   "cell_type": "code",
   "execution_count": 40,
   "metadata": {
    "scrolled": true
   },
   "outputs": [
    {
     "data": {
      "text/plain": [
       "Text(0.5, 1.0, 'PERPETRATOR SEX VS AGE')"
      ]
     },
     "execution_count": 40,
     "metadata": {},
     "output_type": "execute_result"
    },
    {
     "data": {
      "image/png": "[encoded data removed]",
      "text/plain": [
       "<Figure size 432x288 with 2 Axes>"
      ]
     },
     "metadata": {
      "needs_background": "light"
     },
     "output_type": "display_data"
    }
   ],
   "source": [
    "# ให้ perp_sex_age เป็นตัวแปรเก็บ crosstab ระหว่างคอลัมน์ perp_age_group และ perp_sex \n",
    "perp_sex_age = pd.crosstab(df_shooting['perp_age_group'],df_shooting['perp_sex'])\n",
    "\n",
    "#สร้าง heatmap จาก crosstab ระหว่างคอลัมน์ vic_race และ vic_sex\n",
    "sns.heatmap(pd.crosstab(df_shooting['perp_age_group'], df_shooting['perp_sex']),annot=True, cbar=True, fmt=\"d\", linewidth=0.3, cmap = \"Spectral\")\n",
    "\n",
    "# ticks\n",
    "yticks = [i.upper() for i in perp_sex_age.index] #ให้ yticks เก็บข้อมูล list of  i ตัวใหญ่ทั้งหมดโดยที่ i เป็น index ของข้อมูลภายใน perp_sex_age\n",
    "xticks = [i.upper() for i in  perp_sex_age.columns] #ให้ xticks เก็บข้อมูล list of  i ตัวใหญ่ทั้งหมดโดยที่ i เป็น columns ของข้อมูลภายใน perp_sex_age\n",
    "plt.yticks(plt.yticks()[0], labels=yticks, rotation=0)\n",
    "plt.xticks(plt.xticks()[0], labels=xticks, rotation=0)\n",
    "\n",
    "# title\n",
    "title = 'PERPETRATOR SEX VS AGE'\n",
    "plt.title(title, loc='center', fontsize=18)"
   ]
  },
  {
   "cell_type": "markdown",
   "metadata": {},
   "source": [
    "จากผลลัพธ์ของกราฟ heatmap แสดงให้เห็นว่า\n",
    "- คนร้ายเป็นเพศชายมากกว่าเพศหญิงโดยดูได้จากสีน้ำเงินอมม่วง และ value มีจำนวนสูงกว่าเพศหญิง\n",
    "- ในฝั่งของเพศชาย มีจำนวนคนร้ายในช่วงอายุ 18-24 ปีมากที่สุด คือ 233 cases และ 65 ปีขึ้นไปน้อยที่สุดโดยมีจำนวน 2 cases\n",
    "- ในฝั่งของเพศหญิง มีจำนวนคนร้ายในช่วงอายุ 18-24 และ 25-44 ปีมากที่สุด คือ 4 cases ช่วงอายุ 45-64 และ 65 ปีขึ้นไปน้อยที่สุดโดยมีจำนวน 0 cases\n",
    "- สังเกตเห็นได้ว่าช่วงอายุของคนร้ายอยู่ที่ 18-24 ปีมีจำนวนมากที่สุดทั้งเพศชาย และหญิง หรือ คนร้ายยังอยู่ในช่วงวัยรุ่น ยังศึกษาในระดับมหาวิทยาลัยอยู่ รองลงมาจะเป็นช่วงอายุ 25-44 ปี หรือ วัยทำงาน"
   ]
  },
  {
   "cell_type": "markdown",
   "metadata": {},
   "source": [
    "## 4.วิเคราะห์คนร้ายแต่ละเพศมีเชื้อชาติอะไร"
   ]
  },
  {
   "cell_type": "markdown",
   "metadata": {},
   "source": [
    "ต้องการวิเคราะห์ว่าคนร้ายแต่ละเพศมีเชื้อชาติอะไรมากที่สุด และน้อยที่สุดด้วย heat map"
   ]
  },
  {
   "cell_type": "code",
   "execution_count": 41,
   "metadata": {},
   "outputs": [
    {
     "data": {
      "text/plain": [
       "Text(0.5, 1.0, 'PERPETRATOR SEX VS RACE')"
      ]
     },
     "execution_count": 41,
     "metadata": {},
     "output_type": "execute_result"
    },
    {
     "data": {
      "image/png": "[encoded data removed]",
      "text/plain": [
       "<Figure size 432x288 with 2 Axes>"
      ]
     },
     "metadata": {
      "needs_background": "light"
     },
     "output_type": "display_data"
    }
   ],
   "source": [
    "# ให้ perp_sex_race เป็นตัวแปรเก็บ crosstab ระหว่างคอลัมน์ perp_race และ perp_sex \n",
    "perp_sex_race = pd.crosstab(df_shooting['perp_race'],df_shooting['perp_sex'])\n",
    "\n",
    "sns.heatmap(pd.crosstab(df_shooting['perp_race'], df_shooting['perp_sex']),annot=True, cbar=True, fmt=\"d\", linewidth=0.3, cmap = \"Spectral\")\n",
    "# ticks\n",
    "yticks = [i.upper() for i in perp_sex_race.index] #ให้ yticks เก็บข้อมูล list of  i ตัวใหญ่ทั้งหมดโดยที่ i เป็น index ของข้อมูลภายใน perp_sex_race\n",
    "xticks = [i.upper() for i in  perp_sex_race.columns] #ให้ xticks เก็บข้อมูล list of  i ตัวใหญ่ทั้งหมดโดยที่ i เป็น columns ของข้อมูลภายใน perp_sex_race\n",
    "plt.yticks(plt.yticks()[0], labels=yticks, rotation=0)\n",
    "plt.xticks(plt.xticks()[0], labels=xticks, rotation=0)\n",
    "\n",
    "# title\n",
    "title = 'PERPETRATOR SEX VS RACE'\n",
    "plt.title(title, loc='center', fontsize=18)"
   ]
  },
  {
   "cell_type": "markdown",
   "metadata": {},
   "source": [
    "จากผลลัพธ์ของกราฟ heatmap แสดงให้เห็นว่า \n",
    "- ในฝั่งของเพศชาย มีจำนวนการยิงของคนร้ายที่มีเชื้อชาติ BLACK มากที่สุด คือ 359 cases และเชื้อชาติ ASIAN/PACIFIC ISLANDER น้อยที่สุดโดยมีจำนวน 1 cases และมีลำดับเชื้อชาติของคนร้ายจากมากที่สุดไปน้อยที่สุดดังนี้ BLACK -> WHITE HISPANIC -> BLACK HISPANIC -> WHITE -> ASIAN/PACIFIC ISLANDER\n",
    "- ในฝั่งของเพศหญิง มีจำนวนการยิงของคนร้ายที่มีเชื้อชาติ BLACK มากที่สุด คือ 6 cases และเชื้อชาติ ASIAN/PACIFIC ISLANDER , BLACK HISPANIC และ WHITE น้อยที่สุดโดยมีจำนวน 0 cases และมีลำดับเชื้อชาติของคนร้ายจากมากที่สุดไปน้อยที่สุดดังนี้ BLACK -> WHITE HISPANIC -> BLACK HISPANIC = WHITE = ASIAN/PACIFIC ISLANDER\n",
    "- สังเกตเห็นได้ว่าเชื้อชาติของคนร้ายทั้งเพศชาย และหญิงมากที่สุด คือ BLACK \n",
    "   "
   ]
  },
  {
   "cell_type": "markdown",
   "metadata": {},
   "source": [
    "สรุปผลจากการวิเคราะห์ทั้ง 4 กราฟที่ผ่านมา\n",
    "\n",
    "เหยื่อ\n",
    "- จำนวนเหยื่อที่ถูกยิงมีช่วงอายุมากที่สุดอยู่ในช่วง 18-24 ปี หรือ ในช่วงวัยรุ่น(เรียนมหาวิทยาลัย) มากที่สุดของทั้งเพศชาย และเพศหญิง\n",
    "- เชื้อชาติเป็น black หรือ คนผิวสี มีจำนวนมากที่สุดของทั้งเพศชาย และเพศหญิง\n",
    "- จำนวนเหยื่อเพศชาย มากกว่า เพศหญิง\n",
    "\n",
    "คนร้าย \n",
    "- คนร้ายมีอายุในช่วง 18-24 ปี หรือ ในช่วงวัยรุ่น(เรียนมหาวิทยาลัย) และรองลงมาจะเป็นช่วงอายุ 25-44 ปี หรือ วัยทำงานของทั้งเพศชาย และเพศหญิง\n",
    "- เชื้อชาติของคนร้ายมากที่สุด คือ black หรือ คนผิวสี และ WHITE HISPANIC เป็นเชื้อชาติที่มีจำนวนมากรองลงมาของทั้งเพศชาย และหญิง\n",
    "- จำนวนคนร้ายเพศชาย มากกว่า เพศหญิง\n",
    "\n",
    "จะสังเกตเห็นได้ว่า ทั้งเหยื่อและคนร้ายมีจำนวนเพศชายที่มากกว่าเพศหญิงโดยมีอายุอยู่ในช่วงอายุ 18-24 ปี และมีเชื้อชาติเป็นคนผิวสีทั้งเหยื่อ และคนร้ายที่มากที่สุด แต่รองลงมาคือเชื้อชาติ WHITE HISPANIC ทำให้คาดการณ์ได้ว่าอาจเกิดความขัดแย้งระหว่างกันภายในเชื้อชาติ หรือ อาจเป็นความขัดแย้งกันระกว่างคนผิวสีกับคนขาว เนื่องจากปัญหาความขัดแย้งเรื่องการเหยียดสิผิวในอเมริกาที่เป็นปัญหายาวนานของอเมริกา และด้วยอายุที่อยู่ในช่วงวัยรุ่น และเพศชาย ทำให้การขัดแย้งจนรุนแรงถึงขั้นยิงกันได้ในหมู่วัยรุ่นชาย มากกว่าในช่วงอายุหรือเชื้อชาติอื่น \n"
   ]
  },
  {
   "cell_type": "markdown",
   "metadata": {},
   "source": [
    "## 5.เพศของเหยื่อที่เสียชีวิตมากที่สุด"
   ]
  },
  {
   "cell_type": "markdown",
   "metadata": {},
   "source": [
    "ต้องการวิเคราะห์ว่าเพศของเหยื่อที่เสียชีวิตมากที่สุด ด้วย heat map"
   ]
  },
  {
   "cell_type": "code",
   "execution_count": 42,
   "metadata": {
    "scrolled": false
   },
   "outputs": [
    {
     "data": {
      "text/plain": [
       "Text(0.5, 1.0, 'VICTIM SEX VS DEATH OR NOT')"
      ]
     },
     "execution_count": 42,
     "metadata": {},
     "output_type": "execute_result"
    },
    {
     "data": {
      "image/png": "[encoded data removed]",
      "text/plain": [
       "<Figure size 432x288 with 2 Axes>"
      ]
     },
     "metadata": {
      "needs_background": "light"
     },
     "output_type": "display_data"
    }
   ],
   "source": [
    "# ให้ death_sex เป็นตัวแปรเก็บ crosstab ระหว่างคอลัมน์ vic_sex และ statistical_murder_flag \n",
    "death_sex = pd.crosstab(df_shooting['vic_sex'],df_shooting['statistical_murder_flag'])\n",
    "\n",
    "sns.heatmap(pd.crosstab(df_shooting['vic_sex'], df_shooting['statistical_murder_flag']),annot=True, cbar=True, fmt=\"d\", linewidth=0.3, cmap = \"Blues\")\n",
    "\n",
    "# ticks\n",
    "yticks = [i.upper() for i in death_sex.index]#ให้ yticks เก็บข้อมูล list of  i ตัวใหญ่ทั้งหมดโดยที่ i เป็น index ของข้อมูลภายใน perp_sex_race\n",
    "xticks = [i for i in  death_sex.columns] #ให้ xticks เก็บข้อมูล list of  i โดยที่ i เป็น columns ของข้อมูลภายใน perp_sex_race\n",
    "plt.yticks(plt.yticks()[0], labels=yticks, rotation=0)\n",
    "plt.xticks(plt.xticks()[0], labels=xticks, rotation=0)\n",
    "\n",
    "# title\n",
    "title = 'VICTIM SEX VS DEATH OR NOT'\n",
    "plt.title(title, loc='center', fontsize=18)"
   ]
  },
  {
   "cell_type": "markdown",
   "metadata": {},
   "source": [
    "จากผลลัพธ์ของกราฟ heatmap แสดงให้เห็นว่า \n",
    "- เหยื่อเพศชาย มีจำนวนการเสียชีวิตมากกว่าเพศหญิง คือ จำนวนการเสียชีวิตฝ่ายชาย = 110 และฝ่ายหญิง = 16\n",
    "- เหยื่อเพศชาย มีจำนวนการรอดชีวิตมากกว่าเพศหญิง คือ จำนวนการเสียชีวิตฝ่ายชาย = 320 และฝ่ายหญิง = 43\n",
    "- เหยื่อทั้งเพศชาย และเพศหญิงมีจำนวนการรอดชีวิตมากกว่าเสียชีวิต"
   ]
  },
  {
   "cell_type": "markdown",
   "metadata": {},
   "source": [
    "## 6.ช่วงอายุของเหยื่อที่เสียชีวิตมากที่สุด"
   ]
  },
  {
   "cell_type": "markdown",
   "metadata": {},
   "source": [
    "ต้องการวิเคราะห์ว่าช่วงอายุของเหยื่อที่เสียชีวิตมากที่สุด ด้วย heat map"
   ]
  },
  {
   "cell_type": "code",
   "execution_count": 43,
   "metadata": {
    "scrolled": true
   },
   "outputs": [
    {
     "data": {
      "text/plain": [
       "Text(0.5, 1.0, 'VICTIM AGE VS DEATH OR NOT')"
      ]
     },
     "execution_count": 43,
     "metadata": {},
     "output_type": "execute_result"
    },
    {
     "data": {
      "image/png": "[encoded data removed]",
      "text/plain": [
       "<Figure size 432x288 with 2 Axes>"
      ]
     },
     "metadata": {
      "needs_background": "light"
     },
     "output_type": "display_data"
    }
   ],
   "source": [
    "# ให้ death_age เป็นตัวแปรเก็บ crosstab ระหว่างคอลัมน์ vic_age_group และ statistical_murder_flag \n",
    "death_age = pd.crosstab(df_shooting['vic_age_group'],df_shooting['statistical_murder_flag'])\n",
    "\n",
    "sns.heatmap(pd.crosstab(df_shooting['vic_age_group'], df_shooting['statistical_murder_flag']),\n",
    "             annot=True, cbar=True, fmt=\"d\", linewidth=0.3, cmap = \"Blues\")\n",
    "# ticks\n",
    "yticks = [i.upper() for i in death_age.index] #ให้ yticks เก็บข้อมูล list of  i ตัวใหญ่ทั้งหมดโดยที่ i เป็น index ของข้อมูลภายใน death_age\n",
    "xticks = [i for i in  death_age.columns] #ให้ xticks เก็บข้อมูล list of  i โดยที่ i เป็น columns ของข้อมูลภายใน death_age\n",
    "plt.yticks(plt.yticks()[0], labels=yticks, rotation=0)\n",
    "plt.xticks(plt.xticks()[0], labels=xticks, rotation=0)\n",
    "# title\n",
    "title = 'VICTIM AGE VS DEATH OR NOT'\n",
    "plt.title(title, loc='center', fontsize=18)"
   ]
  },
  {
   "cell_type": "markdown",
   "metadata": {},
   "source": [
    "จากผลลัพธ์ของกราฟ heatmap แสดงให้เห็นว่า \n",
    "- ช่วงอายุ 18-24 ปี มีจำนวนการรอดชีวิตสูงที่สุดในทุกช่วงอายุมีจำนวน 157 cases รองลงมาคือ ช่วงอายุ 25-44 ปี และต่ำสุดคือ 65 ปีขึ้นไป\n",
    "- ช่วงอายุ 25-44 ปี มีจำนวนการเสียชีวิตสูงที่สุดในทุกช่วงอายุมีจำนวน 56 cases รองลงมาคือ ช่วงอายุ 18-24 ปี และต่ำสุดคือ 65 ปีขึ้นไป\n",
    "- ช่วงอายุของเหยื่อมีจำนวนการรอดชีวิตสูงกว่าที่สูงกว่าเสียชีวิตอยู่มาก สังเกตได้จากสีที่เข้ม(มีจำนวนมาก) กับ สีที่อ่อน(มีจำนวนน้อย)"
   ]
  },
  {
   "cell_type": "markdown",
   "metadata": {},
   "source": [
    "## 7.เชื้อชาติของเหยื่อที่เสียชีวิตมากที่สุด"
   ]
  },
  {
   "cell_type": "markdown",
   "metadata": {},
   "source": [
    "ต้องการวิเคราะห์ว่าเชื้อชาติของเหยื่อที่เสียชีวิตมากที่สุด ด้วย heat map"
   ]
  },
  {
   "cell_type": "code",
   "execution_count": 44,
   "metadata": {
    "scrolled": false
   },
   "outputs": [
    {
     "data": {
      "text/plain": [
       "Text(0.5, 1.0, 'VICTIM RACE VS DEATH OR NOT')"
      ]
     },
     "execution_count": 44,
     "metadata": {},
     "output_type": "execute_result"
    },
    {
     "data": {
      "image/png": "[encoded data removed]",
      "text/plain": [
       "<Figure size 432x288 with 2 Axes>"
      ]
     },
     "metadata": {
      "needs_background": "light"
     },
     "output_type": "display_data"
    }
   ],
   "source": [
    "# ให้ death_race เป็นตัวแปรเก็บ crosstab ระหว่างคอลัมน์ vic_race และ statistical_murder_flag \n",
    "death_race = pd.crosstab(df_shooting['vic_race'],df_shooting['statistical_murder_flag'])\n",
    "\n",
    "sns.heatmap(pd.crosstab(df_shooting['vic_race'], df_shooting['statistical_murder_flag']),\n",
    "             annot=True, cbar=True, fmt=\"d\", linewidth=0.3, cmap = \"Blues\")\n",
    "# ticks\n",
    "yticks = [i.upper() for i in death_race.index] #ให้ yticks เก็บข้อมูล list of  i ตัวใหญ่ทั้งหมดโดยที่ i เป็น index ของข้อมูลภายใน death_race\n",
    "xticks = [i for i in  death_race.columns] #ให้ xticks เก็บข้อมูล list of  i โดยที่ i เป็น columns ของข้อมูลภายใน death_race\n",
    "plt.yticks(plt.yticks()[0], labels=yticks, rotation=0)\n",
    "plt.xticks(plt.xticks()[0], labels=xticks, rotation=0)\n",
    "# title\n",
    "title = 'VICTIM RACE VS DEATH OR NOT'\n",
    "plt.title(title, loc='center', fontsize=18)"
   ]
  },
  {
   "cell_type": "markdown",
   "metadata": {},
   "source": [
    "จากผลลัพธ์ของกราฟ heatmap แสดงให้เห็นว่า \n",
    "- เชื้อชาติ BLACK มีจำนวนการรอดชีวิตสูงที่สุดมีจำนวน 237 cases รองลงมาคือ WHITE-HISPANIC และต่ำสุดคือ ASIAN/PACIFIC ISLANDER\n",
    "- เชื้อชาติ BLACK มีจำนวนการเสียชีวิตสูงที่สุดมีจำนวน 83 cases รองลงมาคือ WHITE-HISPANIC และต่ำสุดคือ ASIAN/PACIFIC \n",
    "- เชื้อชาติของเหยื่อมีจำนวนการรอดชีวิตสูงกว่าที่สูงกว่าเสียชีวิตอยู่มาก สังเกตได้จากสีที่เข้ม(มีจำนวนมาก) กับ สีที่อ่อน(มีจำนวนน้อย)"
   ]
  },
  {
   "cell_type": "markdown",
   "metadata": {},
   "source": [
    "สรุปผลจาก 3 กราฟที่ผ่านมาจะพบว่า\n",
    "- เหยื่อเพศชาย มีจำนวนการรอดชีวิต และเสียชีวิตมากกว่าเพศหญิง แต่มีจำนวนการรอด มากกว่า เสียชีวิต\n",
    "- เหยื่อที่รอดชีวิตสูงที่สุดมีอายุในช่วงอายุ 18-24 ปี รองลงมาคือ ช่วงอายุ 25-44 ปี และต่ำสุดคือ 65 ปีขึ้นไป\n",
    "- เหยื่อที่เสียชีวิตสูงที่สุดมีอายุในช่วงอายุ 25-44 ปี มีรองลงมาคือ ช่วงอายุ 18-24 ปี และต่ำสุดคือ 65 ปีขึ้นไป\n",
    "- เหยื่อที่มีเชื้อชาติ BLACK มีจำนวนการรอด และเสียชีวิตสูงที่สุด รองลงมาคือ WHITE-HISPANIC และต่ำสุดคือ ASIAN/PACIFIC ISLANDER \n",
    "ดังนั้นจะแสดงได้ว่า เหยื่อเพศชายที่มีอายุในช่วง 18-24 ปี และมีเชื้อชาติผิวสีมีจำนวนการรอดชีวิตมากกว่า และเหยื่อเพศชายที่มีอายุในช่วง 25-44 ปี และมีเชื้อชาติผิวสีมีจำนวนการเสียชีวิตที่มากกว่า อาจเนื่องจากเมื่อมีอายุมากขึ้นทำให้การทนรับต่อความบาดเจ็บของแผลได้น้อยลงมากกว่าคนในวัยรุ่น และในเรื่องของสภาวะแทรกซ้อนต่อการได้รับบาดเจ็บมีที่มีมากกว่าเมื่อช่วงอายุเริ่มสูงขึ้น"
   ]
  },
  {
   "cell_type": "markdown",
   "metadata": {},
   "source": [
    "## 8.เขตใน เมือง NYC ที่มีจำนวนการเสียชีวิตมากที่สุด"
   ]
  },
  {
   "cell_type": "markdown",
   "metadata": {},
   "source": [
    "ต้องการวิเคราะห์ว่าแต่ละเขตใน NewYork City เขตไหนจำนวนการเสียชีวิตมากที่สุด"
   ]
  },
  {
   "cell_type": "code",
   "execution_count": 45,
   "metadata": {},
   "outputs": [
    {
     "data": {
      "text/plain": [
       "Text(0.5, 1.0, 'BOROUGH VS DEATH OR NOT')"
      ]
     },
     "execution_count": 45,
     "metadata": {},
     "output_type": "execute_result"
    },
    {
     "data": {
      "image/png": "[encoded data removed]",
      "text/plain": [
       "<Figure size 432x288 with 2 Axes>"
      ]
     },
     "metadata": {
      "needs_background": "light"
     },
     "output_type": "display_data"
    }
   ],
   "source": [
    "# ให้ death_borough เป็นตัวแปรเก็บ crosstab ระหว่างคอลัมน์ borough และ statistical_murder_flag \n",
    "death_borough = pd.crosstab(df_shooting['borough'],df_shooting['statistical_murder_flag'])\n",
    "\n",
    "sns.heatmap(pd.crosstab(df_shooting['borough'], df_shooting['statistical_murder_flag']),\n",
    "             annot=True, cbar=True,fmt=\"d\" ,linewidth=0.3, cmap = 'YlOrBr')\n",
    "# ticks\n",
    "yticks = [i.upper() for i in death_borough.index] #ให้ yticks เก็บข้อมูล list of  i ตัวใหญ่ทั้งหมดโดยที่ i เป็น index ของข้อมูลภายใน death_borough\n",
    "xticks = [i for i in  death_borough.columns] #ให้ xticks เก็บข้อมูล list of  i โดยที่ i เป็น columns ของข้อมูลภายใน death_borough\n",
    "plt.yticks(plt.yticks()[0], labels=yticks, rotation=0)\n",
    "plt.xticks(plt.xticks()[0], labels=xticks, rotation=0)\n",
    "# title\n",
    "title = 'BOROUGH VS DEATH OR NOT'\n",
    "plt.title(title, loc='center', fontsize=18)"
   ]
  },
  {
   "cell_type": "markdown",
   "metadata": {},
   "source": [
    "จากผลลัพธ์ของกราฟ heatmap แสดงให้เห็นว่า \n",
    "- เขต Brooklyn มีจำนวนการรอดชีวิตที่สูงที่สุดคือ 128 cases รองคนมาคือ Bronx และต่ำสุดคือ Staten Island\n",
    "-  Brooklyn มีจำนวนการเสียชีวิตที่สูงที่สุดคือ 49 cases รองคนมาคือ Bronx และต่ำสุดคือ Staten Island\n",
    "- ในแต่ละเขตจะมีจำนวนการรอดชีวิตมากกว่าเสียชีวิต\n",
    "จะสังเกตุเห็นได้ว่าเขต Brooklyn มีจำนวนการรอด และเสียชีวิตมากที่สุด เนื่องจากเขตนี้เป็นเขตที่มีขนาดของประชากรหนาแน่นที่สุดในเมือง NYC จึงทำให้มีจำนวนผู้ถูกยิงมากกว่าเขตอื่นๆ"
   ]
  },
  {
   "cell_type": "markdown",
   "metadata": {},
   "source": [
    "## 9.พิกัดของผู้รอดชีวิตในแต่ละเขตของเมือง NYC"
   ]
  },
  {
   "cell_type": "markdown",
   "metadata": {},
   "source": [
    "ต้องการสร้างแผนที่แสดงพิกัดทางภูมิศาสตร์เพื่อว่าพิกัดตำแหน่งของผู้รอดชีวิตในแต่ละเขตเพื่อเป็นการดูในภาพรวม"
   ]
  },
  {
   "cell_type": "code",
   "execution_count": 46,
   "metadata": {
    "scrolled": false
   },
   "outputs": [
    {
     "data": {
      "text/html": [
       "<div style=\"width:100%;\"><div style=\"position:relative;width:100%;height:0;padding-bottom:60%;\"><span style=\"color:#565656\">Make this Notebook Trusted to load map: File -> Trust Notebook</span><iframe src=\"about:blank\" style=\"position:absolute;width:100%;height:100%;left:0;top:0;border:none !important;\" data-html=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 onload=\"this.contentDocument.open();this.contentDocument.write(atob(this.getAttribute('data-html')));this.contentDocument.close();\" allowfullscreen webkitallowfullscreen mozallowfullscreen></iframe></div></div>"
      ],
      "text/plain": [
       "<folium.folium.Map at 0x1c1ce6be4c0>"
      ]
     },
     "execution_count": 46,
     "metadata": {},
     "output_type": "execute_result"
    }
   ],
   "source": [
    "#Map\n",
    "#ให้ map_hooray เป็น map ที่มี location คือ ละติจูด และลองจิจูด ที่เป็น center ของแผนที่ของสถานที่ต้องการด้วยคำสั่ง folium.Map()\n",
    "map_hooray = folium.Map(location=[40.730610, -73.935242], zoom_start=10)\n",
    "\n",
    "#Marker\n",
    "#สร้าง marker ของแต่ละเขต โดยให้ location เป็นละติจูด และลองจิจูดของเขตนั้นๆ ด้วยคำสั่ง folium.Marker() \n",
    "#และทำการเพิ่มเข้าไปใน map_hooray ด้วยคำสั่ง .add_to(map_hooray)\n",
    "#popup คือ ต้องการให้ Marker มีเนื้อหาอะไรเมื่อคลิกบน Marker นั้น\n",
    "#icon=folium.Icon(color='color') กำหนดสีให้ Marker นั้น\n",
    "folium.Marker([40.650002, -73.949997],popup=('Brooklyn'+'\\n' +'Number 1 survival'),icon=folium.Icon(color='green')).add_to(map_hooray)\n",
    "\n",
    "folium.Marker([40.837048, -73.865433], popup=('Bronx'+'\\n' +'Number 2 survival'),icon=folium.Icon(color='red')).add_to(map_hooray)\n",
    "\n",
    "folium.Marker([40.742054, -73.769417], popup=('Queens'+'\\n' +'Number 4 survival'),icon=folium.Icon(color='pink')).add_to(map_hooray)\n",
    "\n",
    "folium.Marker([40.78343, -73.96625], popup=('Manhattan'+'\\n' + 'Number 3 survival'),icon=folium.Icon(color='orange')).add_to(map_hooray)\n",
    "\n",
    "folium.Marker([40.579021, -74.151535], popup=('Staten Island'+'\\n'+ 'Number 5 survival'), icon=folium.Icon(color='purple')).add_to(map_hooray)\n",
    "\n",
    "# ให้วนลูป for ไปใน dataframe df_shooting คอลัมน์ statistical_murder_flag ที่มีค่าเป็น false หรือ รอดชีวิต\n",
    "for (index, row) in df_shooting[df_shooting['statistical_murder_flag'] == False].iterrows():\n",
    "    folium.Circle(location=[row['latitude'] ,row['longitude']], radius=10,color ='#1142D8', fill_color='#1142D8').add_to(map_hooray)\n",
    "# ให้สร้างพิกัดเป็นวงกลมบน map_hooray ด้วยคำสั่ง folium.Circle()\n",
    "# ให้ location = row ของคอลัมน์ latitude และ longitude \n",
    "# radius คือ ขนาดของวงกลมบนพื้นที่ ,color  คือ สีของวงกลม fill_color คือ จะใส่สีเข้าไปในวงกลมถ้าไม่ใส่สีจะไม่เปลี่ยนแปลง\n",
    "map_hooray"
   ]
  },
  {
   "cell_type": "markdown",
   "metadata": {},
   "source": [
    "จากจุด Marker สีต่างๆ แสดงให้เห็นถึงเขตแต่ละเขตใน NYC ดังนี้\n",
    "- สีแดง เขต Bronx\n",
    "- สีส้ม เขต Manhattan\n",
    "- สีชมพู เขต Queens\n",
    "- สีเขียว เขต Brooklyn\n",
    "- สีม่วง เขต Staten Island\n",
    "\n",
    "โดยจุดสีน้ำเงินแต่ละจุดจะแสดงพิกัดของคนที่รอดชีวิตในเขตแต่ละเขตของเมือง NYC ซึ่งจากผลลัพธ์ในการวิเคราะห์จากหัวข้อ 8 แสดงให้เห็นว่า เมือง Brooklyn หรือ Marker สีเขียว มีจำนวนผู้เสียชีวิตมากที่สุด รองลงมาคือ Bronx Manhattan Queens และ Staten Island ตามลำดับ"
   ]
  },
  {
   "cell_type": "markdown",
   "metadata": {},
   "source": [
    "## 10.พิกัดของผู้เสียชีวิตในแต่ละเขตของเมือง NYC"
   ]
  },
  {
   "cell_type": "markdown",
   "metadata": {},
   "source": [
    "ต้องการสร้างแผนที่แสดงพิกัดทางภูมิศาสตร์เพื่อว่าพิกัดตำแหน่งของผู้เสียชีวิตในแต่ละเขตเพื่อเป็นการดูในภาพรวม"
   ]
  },
  {
   "cell_type": "code",
   "execution_count": 47,
   "metadata": {
    "scrolled": true
   },
   "outputs": [
    {
     "data": {
      "text/html": [
       "<div style=\"width:100%;\"><div style=\"position:relative;width:100%;height:0;padding-bottom:60%;\"><span style=\"color:#565656\">Make this Notebook Trusted to load map: File -> Trust Notebook</span><iframe src=\"about:blank\" style=\"position:absolute;width:100%;height:100%;left:0;top:0;border:none !important;\" data-html=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 onload=\"this.contentDocument.open();this.contentDocument.write(atob(this.getAttribute('data-html')));this.contentDocument.close();\" allowfullscreen webkitallowfullscreen mozallowfullscreen></iframe></div></div>"
      ],
      "text/plain": [
       "<folium.folium.Map at 0x1c1ce82d640>"
      ]
     },
     "execution_count": 47,
     "metadata": {},
     "output_type": "execute_result"
    }
   ],
   "source": [
    "#Map\n",
    "map_hooray = folium.Map(location=[40.730610, -73.935242], zoom_start=10)\n",
    "\n",
    "#Marker\n",
    "folium.Marker([40.650002, -73.949997],('Brooklyn'+'\\n' +'Number 1 death'),icon=folium.Icon(color='green')).add_to(map_hooray)\n",
    "\n",
    "folium.Marker([40.837048, -73.865433], ('Bronx'+'\\n' +'Number 2 death'),icon=folium.Icon(color='red')).add_to(map_hooray)\n",
    "\n",
    "folium.Marker([40.742054, -73.769417], ('Queens'+'\\n' +'Number 3 death'),icon=folium.Icon(color='pink')).add_to(map_hooray)\n",
    "\n",
    "folium.Marker([40.78343, -73.96625], ('Manhattan'+'\\n' + 'Number 4 death'),icon=folium.Icon(color='orange')).add_to(map_hooray)\n",
    "\n",
    "folium.Marker([40.579021, -74.151535], ('Staten Island'+'\\n'+ 'Number 5 death'), icon=folium.Icon(color='purple')).add_to(map_hooray)\n",
    "\n",
    "# ให้วนลูป for ไปใน dataframe df_shooting คอลัมน์ statistical_murder_flag ที่มีค่าเป็น true หรือ เสียชีวิต\n",
    "for (index, row) in df_shooting[df_shooting['statistical_murder_flag'] == True].iterrows():\n",
    "    folium.Circle(location=[row['latitude'] ,row['longitude']], radius=10,color ='#1142D8', fill_color='#1142D8').add_to(map_hooray)\n",
    "map_hooray"
   ]
  },
  {
   "cell_type": "markdown",
   "metadata": {},
   "source": [
    "จากจุด Marker สีต่างๆ แสดงให้เห็นถึงเขตแต่ละเขตใน NYC ดังนี้\n",
    "- สีแดง เขต Bronx\n",
    "- สีส้ม เขต Manhattan\n",
    "- สีชมพู เขต Queens\n",
    "- สีเขียว เขต Brooklyn\n",
    "- สีม่วง เขต Staten Island\n",
    "\n",
    "โดยจุดสีน้ำเงินแต่ละจุดจะแสดงพิกัดของคนที่เสียชีวิตในเขตแต่ละเขตของเมือง NYC ซึ่งจากผลลัพธ์ในการวิเคราะห์จากหัวข้อ 8 แสดงให้เห็นว่า เมือง Brooklyn หรือ Marker สีเขียว มีจำนวนผู้เสียชีวิตมากที่สุด รองลงมาคือ Bronx Queens Manhattan และ Staten Island ตามลำดับ"
   ]
  },
  {
   "cell_type": "markdown",
   "metadata": {
    "scrolled": true
   },
   "source": [
    "## 11.กราฟจำนวนการเกิดเหตุการณ์ยิงใน NYC ของแต่ละปี"
   ]
  },
  {
   "cell_type": "markdown",
   "metadata": {},
   "source": [
    "ต้องการสร้างกราฟของจำนวนการเกิดเหตุการณ์ยิงกันใน NYC ของแต่ละปีว่ามีจำนวน cases ที่เกิดมากน้อยอย่างไร"
   ]
  },
  {
   "cell_type": "code",
   "execution_count": 48,
   "metadata": {
    "scrolled": false
   },
   "outputs": [
    {
     "data": {
      "text/html": [
       "<div>\n",
       "<style scoped>\n",
       "    .dataframe tbody tr th:only-of-type {\n",
       "        vertical-align: middle;\n",
       "    }\n",
       "\n",
       "    .dataframe tbody tr th {\n",
       "        vertical-align: top;\n",
       "    }\n",
       "\n",
       "    .dataframe thead th {\n",
       "        text-align: right;\n",
       "    }\n",
       "</style>\n",
       "<table border=\"1\" class=\"dataframe\">\n",
       "  <thead>\n",
       "    <tr style=\"text-align: right;\">\n",
       "      <th></th>\n",
       "      <th>incident_key</th>\n",
       "      <th>occur_time</th>\n",
       "      <th>borough</th>\n",
       "      <th>statistical_murder_flag</th>\n",
       "      <th>vic_age_group</th>\n",
       "      <th>vic_sex</th>\n",
       "      <th>vic_race</th>\n",
       "      <th>latitude</th>\n",
       "      <th>longitude</th>\n",
       "      <th>perp_age_group</th>\n",
       "      <th>perp_sex</th>\n",
       "      <th>perp_race</th>\n",
       "      <th>occur_date2</th>\n",
       "      <th>Month</th>\n",
       "      <th>Day</th>\n",
       "    </tr>\n",
       "    <tr>\n",
       "      <th>Year</th>\n",
       "      <th></th>\n",
       "      <th></th>\n",
       "      <th></th>\n",
       "      <th></th>\n",
       "      <th></th>\n",
       "      <th></th>\n",
       "      <th></th>\n",
       "      <th></th>\n",
       "      <th></th>\n",
       "      <th></th>\n",
       "      <th></th>\n",
       "      <th></th>\n",
       "      <th></th>\n",
       "      <th></th>\n",
       "      <th></th>\n",
       "    </tr>\n",
       "  </thead>\n",
       "  <tbody>\n",
       "    <tr>\n",
       "      <th>2006</th>\n",
       "      <td>54</td>\n",
       "      <td>54</td>\n",
       "      <td>54</td>\n",
       "      <td>54</td>\n",
       "      <td>54</td>\n",
       "      <td>54</td>\n",
       "      <td>54</td>\n",
       "      <td>54</td>\n",
       "      <td>54</td>\n",
       "      <td>54</td>\n",
       "      <td>54</td>\n",
       "      <td>54</td>\n",
       "      <td>54</td>\n",
       "      <td>54</td>\n",
       "      <td>54</td>\n",
       "    </tr>\n",
       "    <tr>\n",
       "      <th>2007</th>\n",
       "      <td>53</td>\n",
       "      <td>53</td>\n",
       "      <td>53</td>\n",
       "      <td>53</td>\n",
       "      <td>53</td>\n",
       "      <td>53</td>\n",
       "      <td>53</td>\n",
       "      <td>53</td>\n",
       "      <td>53</td>\n",
       "      <td>53</td>\n",
       "      <td>53</td>\n",
       "      <td>53</td>\n",
       "      <td>53</td>\n",
       "      <td>53</td>\n",
       "      <td>53</td>\n",
       "    </tr>\n",
       "    <tr>\n",
       "      <th>2008</th>\n",
       "      <td>54</td>\n",
       "      <td>54</td>\n",
       "      <td>54</td>\n",
       "      <td>54</td>\n",
       "      <td>54</td>\n",
       "      <td>54</td>\n",
       "      <td>54</td>\n",
       "      <td>54</td>\n",
       "      <td>54</td>\n",
       "      <td>54</td>\n",
       "      <td>54</td>\n",
       "      <td>54</td>\n",
       "      <td>54</td>\n",
       "      <td>54</td>\n",
       "      <td>54</td>\n",
       "    </tr>\n",
       "    <tr>\n",
       "      <th>2009</th>\n",
       "      <td>31</td>\n",
       "      <td>31</td>\n",
       "      <td>31</td>\n",
       "      <td>31</td>\n",
       "      <td>31</td>\n",
       "      <td>31</td>\n",
       "      <td>31</td>\n",
       "      <td>31</td>\n",
       "      <td>31</td>\n",
       "      <td>31</td>\n",
       "      <td>31</td>\n",
       "      <td>31</td>\n",
       "      <td>31</td>\n",
       "      <td>31</td>\n",
       "      <td>31</td>\n",
       "    </tr>\n",
       "    <tr>\n",
       "      <th>2010</th>\n",
       "      <td>33</td>\n",
       "      <td>33</td>\n",
       "      <td>33</td>\n",
       "      <td>33</td>\n",
       "      <td>33</td>\n",
       "      <td>33</td>\n",
       "      <td>33</td>\n",
       "      <td>33</td>\n",
       "      <td>33</td>\n",
       "      <td>33</td>\n",
       "      <td>33</td>\n",
       "      <td>33</td>\n",
       "      <td>33</td>\n",
       "      <td>33</td>\n",
       "      <td>33</td>\n",
       "    </tr>\n",
       "    <tr>\n",
       "      <th>2011</th>\n",
       "      <td>42</td>\n",
       "      <td>42</td>\n",
       "      <td>42</td>\n",
       "      <td>42</td>\n",
       "      <td>42</td>\n",
       "      <td>42</td>\n",
       "      <td>42</td>\n",
       "      <td>42</td>\n",
       "      <td>42</td>\n",
       "      <td>42</td>\n",
       "      <td>42</td>\n",
       "      <td>42</td>\n",
       "      <td>42</td>\n",
       "      <td>42</td>\n",
       "      <td>42</td>\n",
       "    </tr>\n",
       "    <tr>\n",
       "      <th>2012</th>\n",
       "      <td>38</td>\n",
       "      <td>38</td>\n",
       "      <td>38</td>\n",
       "      <td>38</td>\n",
       "      <td>38</td>\n",
       "      <td>38</td>\n",
       "      <td>38</td>\n",
       "      <td>38</td>\n",
       "      <td>38</td>\n",
       "      <td>38</td>\n",
       "      <td>38</td>\n",
       "      <td>38</td>\n",
       "      <td>38</td>\n",
       "      <td>38</td>\n",
       "      <td>38</td>\n",
       "    </tr>\n",
       "    <tr>\n",
       "      <th>2013</th>\n",
       "      <td>37</td>\n",
       "      <td>37</td>\n",
       "      <td>37</td>\n",
       "      <td>37</td>\n",
       "      <td>37</td>\n",
       "      <td>37</td>\n",
       "      <td>37</td>\n",
       "      <td>37</td>\n",
       "      <td>37</td>\n",
       "      <td>37</td>\n",
       "      <td>37</td>\n",
       "      <td>37</td>\n",
       "      <td>37</td>\n",
       "      <td>37</td>\n",
       "      <td>37</td>\n",
       "    </tr>\n",
       "    <tr>\n",
       "      <th>2014</th>\n",
       "      <td>39</td>\n",
       "      <td>39</td>\n",
       "      <td>39</td>\n",
       "      <td>39</td>\n",
       "      <td>39</td>\n",
       "      <td>39</td>\n",
       "      <td>39</td>\n",
       "      <td>39</td>\n",
       "      <td>39</td>\n",
       "      <td>39</td>\n",
       "      <td>39</td>\n",
       "      <td>39</td>\n",
       "      <td>39</td>\n",
       "      <td>39</td>\n",
       "      <td>39</td>\n",
       "    </tr>\n",
       "    <tr>\n",
       "      <th>2015</th>\n",
       "      <td>28</td>\n",
       "      <td>28</td>\n",
       "      <td>28</td>\n",
       "      <td>28</td>\n",
       "      <td>28</td>\n",
       "      <td>28</td>\n",
       "      <td>28</td>\n",
       "      <td>28</td>\n",
       "      <td>28</td>\n",
       "      <td>28</td>\n",
       "      <td>28</td>\n",
       "      <td>28</td>\n",
       "      <td>28</td>\n",
       "      <td>28</td>\n",
       "      <td>28</td>\n",
       "    </tr>\n",
       "    <tr>\n",
       "      <th>2016</th>\n",
       "      <td>22</td>\n",
       "      <td>22</td>\n",
       "      <td>22</td>\n",
       "      <td>22</td>\n",
       "      <td>22</td>\n",
       "      <td>22</td>\n",
       "      <td>22</td>\n",
       "      <td>22</td>\n",
       "      <td>22</td>\n",
       "      <td>22</td>\n",
       "      <td>22</td>\n",
       "      <td>22</td>\n",
       "      <td>22</td>\n",
       "      <td>22</td>\n",
       "      <td>22</td>\n",
       "    </tr>\n",
       "    <tr>\n",
       "      <th>2017</th>\n",
       "      <td>30</td>\n",
       "      <td>30</td>\n",
       "      <td>30</td>\n",
       "      <td>30</td>\n",
       "      <td>30</td>\n",
       "      <td>30</td>\n",
       "      <td>30</td>\n",
       "      <td>30</td>\n",
       "      <td>30</td>\n",
       "      <td>30</td>\n",
       "      <td>30</td>\n",
       "      <td>30</td>\n",
       "      <td>30</td>\n",
       "      <td>30</td>\n",
       "      <td>30</td>\n",
       "    </tr>\n",
       "    <tr>\n",
       "      <th>2018</th>\n",
       "      <td>28</td>\n",
       "      <td>28</td>\n",
       "      <td>28</td>\n",
       "      <td>28</td>\n",
       "      <td>28</td>\n",
       "      <td>28</td>\n",
       "      <td>28</td>\n",
       "      <td>28</td>\n",
       "      <td>28</td>\n",
       "      <td>28</td>\n",
       "      <td>28</td>\n",
       "      <td>28</td>\n",
       "      <td>28</td>\n",
       "      <td>28</td>\n",
       "      <td>28</td>\n",
       "    </tr>\n",
       "  </tbody>\n",
       "</table>\n",
       "</div>"
      ],
      "text/plain": [
       "      incident_key  occur_time  borough  statistical_murder_flag  \\\n",
       "Year                                                               \n",
       "2006            54          54       54                       54   \n",
       "2007            53          53       53                       53   \n",
       "2008            54          54       54                       54   \n",
       "2009            31          31       31                       31   \n",
       "2010            33          33       33                       33   \n",
       "2011            42          42       42                       42   \n",
       "2012            38          38       38                       38   \n",
       "2013            37          37       37                       37   \n",
       "2014            39          39       39                       39   \n",
       "2015            28          28       28                       28   \n",
       "2016            22          22       22                       22   \n",
       "2017            30          30       30                       30   \n",
       "2018            28          28       28                       28   \n",
       "\n",
       "      vic_age_group  vic_sex  vic_race  latitude  longitude  perp_age_group  \\\n",
       "Year                                                                          \n",
       "2006             54       54        54        54         54              54   \n",
       "2007             53       53        53        53         53              53   \n",
       "2008             54       54        54        54         54              54   \n",
       "2009             31       31        31        31         31              31   \n",
       "2010             33       33        33        33         33              33   \n",
       "2011             42       42        42        42         42              42   \n",
       "2012             38       38        38        38         38              38   \n",
       "2013             37       37        37        37         37              37   \n",
       "2014             39       39        39        39         39              39   \n",
       "2015             28       28        28        28         28              28   \n",
       "2016             22       22        22        22         22              22   \n",
       "2017             30       30        30        30         30              30   \n",
       "2018             28       28        28        28         28              28   \n",
       "\n",
       "      perp_sex  perp_race  occur_date2  Month  Day  \n",
       "Year                                                \n",
       "2006        54         54           54     54   54  \n",
       "2007        53         53           53     53   53  \n",
       "2008        54         54           54     54   54  \n",
       "2009        31         31           31     31   31  \n",
       "2010        33         33           33     33   33  \n",
       "2011        42         42           42     42   42  \n",
       "2012        38         38           38     38   38  \n",
       "2013        37         37           37     37   37  \n",
       "2014        39         39           39     39   39  \n",
       "2015        28         28           28     28   28  \n",
       "2016        22         22           22     22   22  \n",
       "2017        30         30           30     30   30  \n",
       "2018        28         28           28     28   28  "
      ]
     },
     "execution_count": 48,
     "metadata": {},
     "output_type": "execute_result"
    }
   ],
   "source": [
    "df_shooting.groupby('Year').count() #ใช้คำสั่ง df_groupby('column name').count() \n",
    "#เพื่อทำการรวมข้อมูลภายในแต่ละปีของคอลัมน์ Year"
   ]
  },
  {
   "cell_type": "markdown",
   "metadata": {},
   "source": [
    "จากผลลัพธ์ด้านบนทุกคอลัมน์มีค่าเท่ากันจึงเลือกมา 1 คอลัมน์เพื่อนำมา plot กราฟ"
   ]
  },
  {
   "cell_type": "code",
   "execution_count": 49,
   "metadata": {},
   "outputs": [
    {
     "data": {
      "text/plain": [
       "Year\n",
       "2006    54\n",
       "2007    53\n",
       "2008    54\n",
       "2009    31\n",
       "2010    33\n",
       "2011    42\n",
       "2012    38\n",
       "2013    37\n",
       "2014    39\n",
       "2015    28\n",
       "2016    22\n",
       "2017    30\n",
       "2018    28\n",
       "Name: incident_key, dtype: int64"
      ]
     },
     "execution_count": 49,
     "metadata": {},
     "output_type": "execute_result"
    }
   ],
   "source": [
    "#ทำการเลือกคอลัมน์ incident_key มา plot ด้วยคำสั่ง df_groupby('column name'1)['column name2'].count() \n",
    "df_shooting.groupby('Year')['incident_key'].count()"
   ]
  },
  {
   "cell_type": "code",
   "execution_count": 50,
   "metadata": {
    "scrolled": true
   },
   "outputs": [
    {
     "data": {
      "image/png": "[encoded data removed]",
      "text/plain": [
       "<Figure size 432x288 with 1 Axes>"
      ]
     },
     "metadata": {
      "needs_background": "light"
     },
     "output_type": "display_data"
    }
   ],
   "source": [
    "#ใช้คำสั่ง df_groupby('column name'1)['column name2'].count().plot() เพื่อ plot ให้เป็นกราฟเส้น\n",
    "df_shooting.groupby('Year')['statistical_murder_flag'].count().plot(color='salmon');"
   ]
  },
  {
   "cell_type": "markdown",
   "metadata": {},
   "source": [
    "จากกราฟที่แสดงด้านบน จะสังเกตเห็นได้ว่าในปี 2006 และ 2008 มีจำนวนของการเกิดเหตุการณ์การยิงกันมากที่สุดโดยมีจำนวน 54 cases และค่อยๆลดลงมาเรื่อยๆจนถึงปี 2009 และค่อยๆเพิ่มสูงขึ้นจนถึงปี 2011 โดยมีจำนวน 42 cases และค่อยๆลงลงและเพิ่มสูงขึ้นอีกในปี 2014 มีจำนวน 39 cases ซึ่งน้อยกว่าปีที่ผ่านมา จากนั้นมีการลดจำนวนการเกิดเหตุลงจนถึงปี 2016 มีจำนวนทั้งสิ้น 22 cases และมีจำนวนสูงขึ้นอีกในปี 2017 มีเพียง 30 cases และลดลงในปี 2018"
   ]
  },
  {
   "cell_type": "markdown",
   "metadata": {},
   "source": [
    "## 12.วิเคราะห์แต่ละปีมีจำนวนการเสียชีวิตเป็นอย่างไร"
   ]
  },
  {
   "cell_type": "markdown",
   "metadata": {},
   "source": [
    "ต้องการวิเคราะห์ว่าแต่ละปีที่เกิดเหตุการยิงมีจำนวนผู้เสียชีวิต และรอดชีวิตเป็นอย่างไร"
   ]
  },
  {
   "cell_type": "code",
   "execution_count": 51,
   "metadata": {
    "scrolled": true
   },
   "outputs": [
    {
     "data": {
      "text/plain": [
       "Text(0.5, 1.0, 'YEAR VS DEATH OR NOT')"
      ]
     },
     "execution_count": 51,
     "metadata": {},
     "output_type": "execute_result"
    },
    {
     "data": {
      "image/png": "[encoded data removed]",
      "text/plain": [
       "<Figure size 432x288 with 2 Axes>"
      ]
     },
     "metadata": {
      "needs_background": "light"
     },
     "output_type": "display_data"
    }
   ],
   "source": [
    "# ให้ year_death เป็นตัวแปรเก็บ crosstab ระหว่างคอลัมน์ Year และ statistical_murder_flag \n",
    "year_death = pd.crosstab(df_shooting['Year'],df_shooting['statistical_murder_flag'])\n",
    "\n",
    "sns.heatmap(pd.crosstab(df_shooting['Year'], df_shooting['statistical_murder_flag']),\n",
    "             annot=True, cbar=True,fmt=\"d\" ,linewidth=0.3, cmap = 'YlOrBr')\n",
    "# ticks\n",
    "yticks = [i.upper() for i in year_death.index] #ให้ yticks เก็บข้อมูล list of  i ตัวใหญ่ทั้งหมดโดยที่ i เป็น index ของข้อมูลภายใน year_death\n",
    "xticks = [i for i in  year_death.columns]#ให้ xticks เก็บข้อมูล list of  i โดยที่ i เป็น columns ของข้อมูลภายใน year_death\n",
    "plt.yticks(plt.yticks()[0], labels=yticks, rotation=0)\n",
    "plt.xticks(plt.xticks()[0], labels=xticks, rotation=0)\n",
    "# title\n",
    "title = 'YEAR VS DEATH OR NOT'\n",
    "plt.title(title, loc='center', fontsize=18)"
   ]
  },
  {
   "cell_type": "markdown",
   "metadata": {},
   "source": [
    "จากผลลัพธ์กราฟ heat map จะพบว่า\n",
    "- ปี 2008 มีจำนวนผู้รอดชีวิตมากที่สุด รองลงมาคือปี 2007 ต่ำสุดในปี 2013\n",
    "- ปี 2006 มีจำนวนผู้เสียชีวิตมากที่สุด รองลงมาคือปี 2006 ต่ำสุดในปี 2009 และ 2015\n",
    "- แต่ทุกปีมีจำนวนของผู้รอดชีวิตมากกว่าเสียชีวิต"
   ]
  },
  {
   "cell_type": "code",
   "execution_count": 52,
   "metadata": {
    "scrolled": true
   },
   "outputs": [
    {
     "data": {
      "text/plain": [
       "<matplotlib.axes._subplots.AxesSubplot at 0x1c1cf9ed5e0>"
      ]
     },
     "execution_count": 52,
     "metadata": {},
     "output_type": "execute_result"
    },
    {
     "data": {
      "image/png": "[encoded data removed]",
      "text/plain": [
       "<Figure size 432x288 with 1 Axes>"
      ]
     },
     "metadata": {
      "needs_background": "light"
     },
     "output_type": "display_data"
    }
   ],
   "source": [
    "year_death.plot() #ทำการสร้างฟราฟเส้นของตัวแปร year_death ที่เก็บ crosstab ระหว่างคอลัมน์ Year และ statistical_murder_flag "
   ]
  },
  {
   "cell_type": "markdown",
   "metadata": {
    "scrolled": true
   },
   "source": [
    "จากผลลัพธ์ของกราฟเส้นนี้จะเห็นได้ว่าจำนวนของผู้รอดชีวิตมีจำนวนสูงที่สุดในปี 2008 ในขณะที่จำนวนผู้เสียชีวิตในปี 2006 มีจำนวนสูงที่สุด และสังเกตุได้ว่าในปีหลังๆทั้งจำนวนของผู้รอดชีวิต และเสียชีวิตมีจำนวนลดลงจากปีก่อนๆ หรือ บอกได้ว่าจำนวนการเกิดเหตุการณ์ยิงกันค่อยๆลดลง สำหรับจำนวนผู้รอดชีวิตค่อนข้างเริ่มคงที่อยู่ที่ 19 cases และจำนวนผู้เสียชีวิตมีแนวโน้มลดลงใน 2 ปีหลังคือปี 2017 และ 2018 "
   ]
  },
  {
   "cell_type": "code",
   "execution_count": null,
   "metadata": {},
   "outputs": [],
   "source": []
  },
  {
   "cell_type": "code",
   "execution_count": null,
   "metadata": {},
   "outputs": [],
   "source": []
  }
 ],
 "metadata": {
  "kernelspec": {
   "display_name": "Python 3",
   "language": "python",
   "name": "python3"
  },
  "language_info": {
   "codemirror_mode": {
    "name": "ipython",
    "version": 3
   },
   "file_extension": ".py",
   "mimetype": "text/x-python",
   "name": "python",
   "nbconvert_exporter": "python",
   "pygments_lexer": "ipython3",
   "version": "3.8.3"
  }
 },
 "nbformat": 4,
 "nbformat_minor": 4
}
